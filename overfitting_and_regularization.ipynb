{
  "nbformat": 4,
  "nbformat_minor": 0,
  "metadata": {
    "colab": {
      "name": "overfitting and regularization.ipynb",
      "provenance": [],
      "collapsed_sections": [],
      "authorship_tag": "ABX9TyMMQctsiXPXpfboZuOCLQxJ",
      "include_colab_link": true
    },
    "kernelspec": {
      "name": "python3",
      "display_name": "Python 3"
    },
    "accelerator": "GPU"
  },
  "cells": [
    {
      "cell_type": "markdown",
      "metadata": {
        "id": "view-in-github",
        "colab_type": "text"
      },
      "source": [
        "<a href=\"https://colab.research.google.com/github/rajeevfromkrec/deep_learning/blob/master/overfitting_and_regularization.ipynb\" target=\"_parent\"><img src=\"https://colab.research.google.com/assets/colab-badge.svg\" alt=\"Open In Colab\"/></a>"
      ]
    },
    {
      "cell_type": "code",
      "metadata": {
        "id": "5i-NCsrGjMu3",
        "colab_type": "code",
        "colab": {
          "base_uri": "https://localhost:8080/",
          "height": 35
        },
        "outputId": "8bf8eb86-22d4-40c9-b511-bef39c922f3a"
      },
      "source": [
        "from keras.datasets import imdb\n",
        "import numpy as np\n"
      ],
      "execution_count": 2,
      "outputs": [
        {
          "output_type": "stream",
          "text": [
            "Using TensorFlow backend.\n"
          ],
          "name": "stderr"
        }
      ]
    },
    {
      "cell_type": "code",
      "metadata": {
        "id": "5bvC4Yb4pC0t",
        "colab_type": "code",
        "colab": {
          "base_uri": "https://localhost:8080/",
          "height": 35
        },
        "outputId": "1ce3bca1-f544-4aee-ad3d-1218fafa5be1"
      },
      "source": [
        "import tensorflow as tf\n",
        "tf.test.gpu_device_name()"
      ],
      "execution_count": 3,
      "outputs": [
        {
          "output_type": "execute_result",
          "data": {
            "text/plain": [
              "'/device:GPU:0'"
            ]
          },
          "metadata": {
            "tags": []
          },
          "execution_count": 3
        }
      ]
    },
    {
      "cell_type": "code",
      "metadata": {
        "id": "16tvwoV2jTu6",
        "colab_type": "code",
        "colab": {}
      },
      "source": [
        "(train_data, train_labels), (test_data, test_labels) = imdb.load_data(num_words=1000)"
      ],
      "execution_count": 0,
      "outputs": []
    },
    {
      "cell_type": "code",
      "metadata": {
        "id": "tfIEF0cdjX3-",
        "colab_type": "code",
        "colab": {}
      },
      "source": [
        "def vectorize_sequences(sequences, dimension=1000):\n",
        "    # Create an all-zero matrix of shape (len(sequences), dimension)\n",
        "    results = np.zeros((len(sequences), dimension))\n",
        "    for i, sequence in enumerate(sequences):\n",
        "        results[i, sequence] = 1.  # set specific indices of results[i] to 1s\n",
        "    return results\n",
        "\n",
        "# Our vectorized training data\n",
        "x_train = vectorize_sequences(train_data)\n",
        "# Our vectorized test data\n",
        "x_test = vectorize_sequences(test_data)\n",
        "# Our vectorized labels\n",
        "y_train = np.asarray(train_labels).astype('float32')\n",
        "y_test = np.asarray(test_labels).astype('float32')"
      ],
      "execution_count": 0,
      "outputs": []
    },
    {
      "cell_type": "code",
      "metadata": {
        "id": "yQ9z9ktTjdWz",
        "colab_type": "code",
        "colab": {}
      },
      "source": [
        "import tensorflow as tf\n",
        "from keras import layers\n",
        "from keras import models"
      ],
      "execution_count": 0,
      "outputs": []
    },
    {
      "cell_type": "code",
      "metadata": {
        "id": "loD97sXFkG_L",
        "colab_type": "code",
        "colab": {}
      },
      "source": [
        "model1= tf.keras.models.Sequential([\n",
        "                                   \n",
        "                                  tf.keras.layers.Dense(16,activation='relu',input_shape=(1000,)),\n",
        "                                   tf.keras.layers.Dense(16,activation='relu'),\n",
        "                                   tf.keras.layers.Dense(1,activation='sigmoid')\n",
        "\n",
        "])\n",
        "\n",
        "model1.compile(optimizer='rmsprop',loss='binary_crossentropy',metrics=['accuracy'])"
      ],
      "execution_count": 0,
      "outputs": []
    },
    {
      "cell_type": "code",
      "metadata": {
        "id": "nLLcq9CdlHp0",
        "colab_type": "code",
        "colab": {}
      },
      "source": [
        "model2= tf.keras.models.Sequential([\n",
        "                                   \n",
        "                                  tf.keras.layers.Dense(5,activation='relu',input_shape=(1000,)),\n",
        "                                   tf.keras.layers.Dense(5,activation='relu'),\n",
        "                                   tf.keras.layers.Dense(1,activation='sigmoid')\n",
        "\n",
        "])\n",
        "\n",
        "model2.compile(optimizer='rmsprop',loss='binary_crossentropy',metrics=['accuracy'])"
      ],
      "execution_count": 0,
      "outputs": []
    },
    {
      "cell_type": "code",
      "metadata": {
        "id": "dMvFZnuJlq3N",
        "colab_type": "code",
        "colab": {
          "base_uri": "https://localhost:8080/",
          "height": 752
        },
        "outputId": "cd3b282f-9ee4-4c16-913d-01ac1727b625"
      },
      "source": [
        "\n",
        "\n",
        "model1_hist = model1.fit(x_train, y_train,\n",
        "                                   epochs=20,\n",
        "                                   batch_size=30,\n",
        "                                   validation_data=(x_test, y_test),verbose=1)\n",
        "\n"
      ],
      "execution_count": 10,
      "outputs": [
        {
          "output_type": "stream",
          "text": [
            "Epoch 1/20\n",
            "834/834 [==============================] - 5s 7ms/step - loss: 0.3834 - accuracy: 0.8335 - val_loss: 0.3358 - val_accuracy: 0.8587\n",
            "Epoch 2/20\n",
            "834/834 [==============================] - 5s 6ms/step - loss: 0.3217 - accuracy: 0.8635 - val_loss: 0.3266 - val_accuracy: 0.8594\n",
            "Epoch 3/20\n",
            "834/834 [==============================] - 6s 7ms/step - loss: 0.3072 - accuracy: 0.8719 - val_loss: 0.3317 - val_accuracy: 0.8575\n",
            "Epoch 4/20\n",
            "834/834 [==============================] - 6s 7ms/step - loss: 0.2928 - accuracy: 0.8799 - val_loss: 0.3353 - val_accuracy: 0.8567\n",
            "Epoch 5/20\n",
            "834/834 [==============================] - 5s 6ms/step - loss: 0.2785 - accuracy: 0.8876 - val_loss: 0.3389 - val_accuracy: 0.8563\n",
            "Epoch 6/20\n",
            "834/834 [==============================] - 5s 6ms/step - loss: 0.2643 - accuracy: 0.8955 - val_loss: 0.3617 - val_accuracy: 0.8489\n",
            "Epoch 7/20\n",
            "834/834 [==============================] - 5s 6ms/step - loss: 0.2489 - accuracy: 0.9048 - val_loss: 0.3672 - val_accuracy: 0.8516\n",
            "Epoch 8/20\n",
            "834/834 [==============================] - 5s 6ms/step - loss: 0.2328 - accuracy: 0.9116 - val_loss: 0.3864 - val_accuracy: 0.8520\n",
            "Epoch 9/20\n",
            "834/834 [==============================] - 5s 6ms/step - loss: 0.2178 - accuracy: 0.9197 - val_loss: 0.4156 - val_accuracy: 0.8441\n",
            "Epoch 10/20\n",
            "834/834 [==============================] - 5s 6ms/step - loss: 0.2031 - accuracy: 0.9274 - val_loss: 0.4237 - val_accuracy: 0.8450\n",
            "Epoch 11/20\n",
            "834/834 [==============================] - 5s 6ms/step - loss: 0.1891 - accuracy: 0.9326 - val_loss: 0.4702 - val_accuracy: 0.8376\n",
            "Epoch 12/20\n",
            "834/834 [==============================] - 5s 6ms/step - loss: 0.1765 - accuracy: 0.9395 - val_loss: 0.4650 - val_accuracy: 0.8384\n",
            "Epoch 13/20\n",
            "834/834 [==============================] - 6s 7ms/step - loss: 0.1651 - accuracy: 0.9449 - val_loss: 0.5250 - val_accuracy: 0.8374\n",
            "Epoch 14/20\n",
            "834/834 [==============================] - 6s 7ms/step - loss: 0.1541 - accuracy: 0.9494 - val_loss: 0.5648 - val_accuracy: 0.8371\n",
            "Epoch 15/20\n",
            "834/834 [==============================] - 6s 7ms/step - loss: 0.1450 - accuracy: 0.9534 - val_loss: 0.5934 - val_accuracy: 0.8359\n",
            "Epoch 16/20\n",
            "834/834 [==============================] - 5s 7ms/step - loss: 0.1360 - accuracy: 0.9569 - val_loss: 0.6020 - val_accuracy: 0.8294\n",
            "Epoch 17/20\n",
            "834/834 [==============================] - 5s 6ms/step - loss: 0.1275 - accuracy: 0.9591 - val_loss: 0.6622 - val_accuracy: 0.8291\n",
            "Epoch 18/20\n",
            "834/834 [==============================] - 5s 6ms/step - loss: 0.1200 - accuracy: 0.9627 - val_loss: 0.6889 - val_accuracy: 0.8306\n",
            "Epoch 19/20\n",
            "834/834 [==============================] - 5s 6ms/step - loss: 0.1139 - accuracy: 0.9646 - val_loss: 0.7261 - val_accuracy: 0.8304\n",
            "Epoch 20/20\n",
            "834/834 [==============================] - 5s 6ms/step - loss: 0.1069 - accuracy: 0.9674 - val_loss: 0.7657 - val_accuracy: 0.8287\n"
          ],
          "name": "stdout"
        }
      ]
    },
    {
      "cell_type": "code",
      "metadata": {
        "id": "Yrej5_vzlzYg",
        "colab_type": "code",
        "colab": {
          "base_uri": "https://localhost:8080/",
          "height": 752
        },
        "outputId": "15b99910-e0a8-47a2-9abd-2e2239e2006b"
      },
      "source": [
        "model2_hist = model2.fit(x_train, y_train,\n",
        "                                   epochs=20,\n",
        "                                   batch_size=30,\n",
        "                                   validation_data=(x_test, y_test),verbose=1)"
      ],
      "execution_count": 13,
      "outputs": [
        {
          "output_type": "stream",
          "text": [
            "Epoch 1/20\n",
            "834/834 [==============================] - 5s 6ms/step - loss: 0.4051 - accuracy: 0.8237 - val_loss: 0.3276 - val_accuracy: 0.8618\n",
            "Epoch 2/20\n",
            "834/834 [==============================] - 5s 6ms/step - loss: 0.3225 - accuracy: 0.8649 - val_loss: 0.3243 - val_accuracy: 0.8624\n",
            "Epoch 3/20\n",
            "834/834 [==============================] - 5s 6ms/step - loss: 0.3146 - accuracy: 0.8696 - val_loss: 0.3246 - val_accuracy: 0.8605\n",
            "Epoch 4/20\n",
            "834/834 [==============================] - 5s 6ms/step - loss: 0.3095 - accuracy: 0.8707 - val_loss: 0.3257 - val_accuracy: 0.8610\n",
            "Epoch 5/20\n",
            "834/834 [==============================] - 5s 6ms/step - loss: 0.3045 - accuracy: 0.8728 - val_loss: 0.3249 - val_accuracy: 0.8609\n",
            "Epoch 6/20\n",
            "834/834 [==============================] - 5s 6ms/step - loss: 0.3011 - accuracy: 0.8749 - val_loss: 0.3337 - val_accuracy: 0.8573\n",
            "Epoch 7/20\n",
            "834/834 [==============================] - 5s 6ms/step - loss: 0.2974 - accuracy: 0.8759 - val_loss: 0.3292 - val_accuracy: 0.8587\n",
            "Epoch 8/20\n",
            "834/834 [==============================] - 5s 6ms/step - loss: 0.2948 - accuracy: 0.8776 - val_loss: 0.3327 - val_accuracy: 0.8586\n",
            "Epoch 9/20\n",
            "834/834 [==============================] - 5s 6ms/step - loss: 0.2924 - accuracy: 0.8783 - val_loss: 0.3385 - val_accuracy: 0.8567\n",
            "Epoch 10/20\n",
            "834/834 [==============================] - 5s 6ms/step - loss: 0.2891 - accuracy: 0.8798 - val_loss: 0.3343 - val_accuracy: 0.8581\n",
            "Epoch 11/20\n",
            "834/834 [==============================] - 5s 6ms/step - loss: 0.2862 - accuracy: 0.8813 - val_loss: 0.3487 - val_accuracy: 0.8520\n",
            "Epoch 12/20\n",
            "834/834 [==============================] - 5s 6ms/step - loss: 0.2848 - accuracy: 0.8831 - val_loss: 0.3437 - val_accuracy: 0.8567\n",
            "Epoch 13/20\n",
            "834/834 [==============================] - 5s 6ms/step - loss: 0.2822 - accuracy: 0.8837 - val_loss: 0.3409 - val_accuracy: 0.8573\n",
            "Epoch 14/20\n",
            "834/834 [==============================] - 5s 6ms/step - loss: 0.2798 - accuracy: 0.8846 - val_loss: 0.3470 - val_accuracy: 0.8571\n",
            "Epoch 15/20\n",
            "834/834 [==============================] - 5s 7ms/step - loss: 0.2785 - accuracy: 0.8842 - val_loss: 0.3460 - val_accuracy: 0.8562\n",
            "Epoch 16/20\n",
            "834/834 [==============================] - 5s 6ms/step - loss: 0.2769 - accuracy: 0.8872 - val_loss: 0.3462 - val_accuracy: 0.8556\n",
            "Epoch 17/20\n",
            "834/834 [==============================] - 5s 6ms/step - loss: 0.2744 - accuracy: 0.8884 - val_loss: 0.3476 - val_accuracy: 0.8553\n",
            "Epoch 18/20\n",
            "834/834 [==============================] - 5s 6ms/step - loss: 0.2721 - accuracy: 0.8870 - val_loss: 0.3502 - val_accuracy: 0.8557\n",
            "Epoch 19/20\n",
            "834/834 [==============================] - 5s 6ms/step - loss: 0.2706 - accuracy: 0.8888 - val_loss: 0.3538 - val_accuracy: 0.8536\n",
            "Epoch 20/20\n",
            "834/834 [==============================] - 5s 6ms/step - loss: 0.2678 - accuracy: 0.8909 - val_loss: 0.3572 - val_accuracy: 0.8535\n"
          ],
          "name": "stdout"
        }
      ]
    },
    {
      "cell_type": "code",
      "metadata": {
        "id": "SrUdCxHbArqu",
        "colab_type": "code",
        "colab": {}
      },
      "source": [
        "epochs=range(1,21)\n",
        "model1_val_loss=model1.history.history['val_loss']\n",
        "model2_val_loss=model2.history.history['val_loss']\n"
      ],
      "execution_count": 0,
      "outputs": []
    },
    {
      "cell_type": "code",
      "metadata": {
        "id": "_JPk5vU3BweB",
        "colab_type": "code",
        "colab": {
          "base_uri": "https://localhost:8080/",
          "height": 279
        },
        "outputId": "12897a14-9c66-4d4f-b6c7-62e4a1c099ae"
      },
      "source": [
        "import seaborn as sns\n",
        "import matplotlib.pyplot as plt\n",
        "\n",
        "plt.plot(epochs,model1_val_loss,'b',label='model1-loss')\n",
        "plt.plot(epochs,model2_val_loss,'b+',label='model1-loss')\n",
        "plt.xlabel('epochs')\n",
        "plt.ylabel('loss')\n",
        "plt.legend()\n",
        "plt.show()\n"
      ],
      "execution_count": 17,
      "outputs": [
        {
          "output_type": "display_data",
          "data": {
            "image/png": "[encoded data removed]",
            "text/plain": [
              "<Figure size 432x288 with 1 Axes>"
            ]
          },
          "metadata": {
            "tags": [],
            "needs_background": "light"
          }
        }
      ]
    },
    {
      "cell_type": "code",
      "metadata": {
        "id": "QNZm9goADTbs",
        "colab_type": "code",
        "colab": {}
      },
      "source": [
        ""
      ],
      "execution_count": 0,
      "outputs": []
    },
    {
      "cell_type": "markdown",
      "metadata": {
        "id": "gkv1nxwVEJJf",
        "colab_type": "text"
      },
      "source": [
        "#Regularization\n"
      ]
    },
    {
      "cell_type": "code",
      "metadata": {
        "id": "Cbbx4XQUHujo",
        "colab_type": "code",
        "colab": {}
      },
      "source": [
        "import tensorflow as tf\n",
        "from keras import regularizers\n",
        "l2=tf.keras.regularizers.l2(l=.001)\n",
        "l1=tf.keras.regularizers.l1(l=.01)"
      ],
      "execution_count": 0,
      "outputs": []
    },
    {
      "cell_type": "code",
      "metadata": {
        "id": "hlBBL8nyEMjp",
        "colab_type": "code",
        "colab": {}
      },
      "source": [
        "l2_model= tf.keras.models.Sequential([\n",
        "                                   \n",
        "                                  tf.keras.layers.Dense(10,activation='relu',input_shape=(1000,),kernel_regularizer=l2),\n",
        "                                   tf.keras.layers.Dense(10,activation='relu',kernel_regularizer=tf.keras.regularizers.l1_l2(l1=.01,l2=.001)),\n",
        "                                   tf.keras.layers.Dense(1,activation='sigmoid')\n",
        "\n",
        "])\n",
        "\n",
        "l2_model.compile(optimizer='rmsprop',loss='binary_crossentropy',metrics=['accuracy'])"
      ],
      "execution_count": 0,
      "outputs": []
    },
    {
      "cell_type": "code",
      "metadata": {
        "id": "EotsIwe3FSxC",
        "colab_type": "code",
        "colab": {
          "base_uri": "https://localhost:8080/",
          "height": 752
        },
        "outputId": "bb212c23-be04-44a1-ca56-9f6dafc07524"
      },
      "source": [
        "l2_model_hist = l2_model.fit(x_train, y_train,\n",
        "                                   epochs=20,\n",
        "                                   batch_size=30,\n",
        "                                   validation_data=(x_test, y_test),verbose=1)"
      ],
      "execution_count": 47,
      "outputs": [
        {
          "output_type": "stream",
          "text": [
            "Epoch 1/20\n",
            "834/834 [==============================] - 6s 7ms/step - loss: 0.5757 - accuracy: 0.8077 - val_loss: 0.4612 - val_accuracy: 0.8442\n",
            "Epoch 2/20\n",
            "834/834 [==============================] - 6s 7ms/step - loss: 0.4194 - accuracy: 0.8628 - val_loss: 0.4095 - val_accuracy: 0.8628\n",
            "Epoch 3/20\n",
            "834/834 [==============================] - 6s 7ms/step - loss: 0.4007 - accuracy: 0.8666 - val_loss: 0.4080 - val_accuracy: 0.8594\n",
            "Epoch 4/20\n",
            "834/834 [==============================] - 6s 7ms/step - loss: 0.3899 - accuracy: 0.8694 - val_loss: 0.4257 - val_accuracy: 0.8453\n",
            "Epoch 5/20\n",
            "834/834 [==============================] - 6s 7ms/step - loss: 0.3820 - accuracy: 0.8693 - val_loss: 0.4014 - val_accuracy: 0.8566\n",
            "Epoch 6/20\n",
            "834/834 [==============================] - 6s 7ms/step - loss: 0.3748 - accuracy: 0.8687 - val_loss: 0.3902 - val_accuracy: 0.8580\n",
            "Epoch 7/20\n",
            "834/834 [==============================] - 6s 7ms/step - loss: 0.3671 - accuracy: 0.8717 - val_loss: 0.3787 - val_accuracy: 0.8593\n",
            "Epoch 8/20\n",
            "834/834 [==============================] - 6s 7ms/step - loss: 0.3615 - accuracy: 0.8716 - val_loss: 0.3796 - val_accuracy: 0.8586\n",
            "Epoch 9/20\n",
            "834/834 [==============================] - 6s 7ms/step - loss: 0.3587 - accuracy: 0.8721 - val_loss: 0.3742 - val_accuracy: 0.8606\n",
            "Epoch 10/20\n",
            "834/834 [==============================] - 6s 7ms/step - loss: 0.3560 - accuracy: 0.8720 - val_loss: 0.3846 - val_accuracy: 0.8546\n",
            "Epoch 11/20\n",
            "834/834 [==============================] - 6s 7ms/step - loss: 0.3552 - accuracy: 0.8726 - val_loss: 0.3731 - val_accuracy: 0.8602\n",
            "Epoch 12/20\n",
            "834/834 [==============================] - 6s 7ms/step - loss: 0.3535 - accuracy: 0.8732 - val_loss: 0.3693 - val_accuracy: 0.8616\n",
            "Epoch 13/20\n",
            "834/834 [==============================] - 6s 7ms/step - loss: 0.3526 - accuracy: 0.8713 - val_loss: 0.3683 - val_accuracy: 0.8608\n",
            "Epoch 14/20\n",
            "834/834 [==============================] - 6s 7ms/step - loss: 0.3508 - accuracy: 0.8752 - val_loss: 0.3679 - val_accuracy: 0.8615\n",
            "Epoch 15/20\n",
            "834/834 [==============================] - 6s 7ms/step - loss: 0.3501 - accuracy: 0.8723 - val_loss: 0.3674 - val_accuracy: 0.8621\n",
            "Epoch 16/20\n",
            "834/834 [==============================] - 6s 7ms/step - loss: 0.3483 - accuracy: 0.8729 - val_loss: 0.3776 - val_accuracy: 0.8558\n",
            "Epoch 17/20\n",
            "834/834 [==============================] - 6s 7ms/step - loss: 0.3473 - accuracy: 0.8738 - val_loss: 0.3633 - val_accuracy: 0.8614\n",
            "Epoch 18/20\n",
            "834/834 [==============================] - 6s 7ms/step - loss: 0.3451 - accuracy: 0.8736 - val_loss: 0.3621 - val_accuracy: 0.8603\n",
            "Epoch 19/20\n",
            "834/834 [==============================] - 6s 7ms/step - loss: 0.3442 - accuracy: 0.8733 - val_loss: 0.3656 - val_accuracy: 0.8591\n",
            "Epoch 20/20\n",
            "834/834 [==============================] - 6s 8ms/step - loss: 0.3437 - accuracy: 0.8736 - val_loss: 0.3636 - val_accuracy: 0.8604\n"
          ],
          "name": "stdout"
        }
      ]
    },
    {
      "cell_type": "code",
      "metadata": {
        "id": "myGYOlQbMkSe",
        "colab_type": "code",
        "colab": {
          "base_uri": "https://localhost:8080/",
          "height": 279
        },
        "outputId": "f15383fb-d05e-448c-cb27-87df9ec9f489"
      },
      "source": [
        "l2_model_val_loss=l2_model.history.history['val_loss']\n",
        "\n",
        "plt.plot(epochs,model1_val_loss,'bo',label='model1_loss')\n",
        "plt.plot(epochs,l2_model_val_loss,'b',label='l2_model_loss')\n",
        "plt.xlabel('epochs')\n",
        "plt.ylabel('loss')\n",
        "plt.legend()\n",
        "plt.show()"
      ],
      "execution_count": 48,
      "outputs": [
        {
          "output_type": "display_data",
          "data": {
            "image/png": "[encoded data removed]",
            "text/plain": [
              "<Figure size 432x288 with 1 Axes>"
            ]
          },
          "metadata": {
            "tags": [],
            "needs_background": "light"
          }
        }
      ]
    },
    {
      "cell_type": "code",
      "metadata": {
        "id": "XNpPZIwzN5MM",
        "colab_type": "code",
        "colab": {}
      },
      "source": [
        ""
      ],
      "execution_count": 0,
      "outputs": []
    }
  ]
}