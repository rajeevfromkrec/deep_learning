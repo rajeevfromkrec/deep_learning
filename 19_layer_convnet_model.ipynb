{
  "nbformat": 4,
  "nbformat_minor": 0,
  "metadata": {
    "colab": {
      "name": "19 layer convnet model.ipynb",
      "provenance": [],
      "collapsed_sections": [],
      "authorship_tag": "ABX9TyNU3x8WsgxE4Xo6OySqCP99",
      "include_colab_link": true
    },
    "kernelspec": {
      "name": "python3",
      "display_name": "Python 3"
    }
  },
  "cells": [
    {
      "cell_type": "markdown",
      "metadata": {
        "id": "view-in-github",
        "colab_type": "text"
      },
      "source": [
        "<a href=\"https://colab.research.google.com/github/rajeevfromkrec/deep_learning/blob/master/19_layer_convnet_model.ipynb\" target=\"_parent\"><img src=\"https://colab.research.google.com/assets/colab-badge.svg\" alt=\"Open In Colab\"/></a>"
      ]
    },
    {
      "cell_type": "code",
      "metadata": {
        "id": "x-gDsYxl98Zd",
        "colab_type": "code",
        "colab": {}
      },
      "source": [
        "\n",
        "model=tf.keras.models.Sequential([\n",
        "                                  tf.keras.layers.Conv2D(32,3,3,padding='same',activation='relu'),\n",
        "                                  tf.keras.layers.Conv2D(32,3,3,padding='same',activation='relu'),\n",
        "                                  tf.keras.layers.MaxPool2D(pool_size=(2, 2)),\n",
        "\n",
        "                                  tf.keras.layers.Conv2D(64,3,3,padding='same',activation='relu'),\n",
        "                                  tf.keras.layers.Conv2D(64,3,3,padding='same',activation='relu'),\n",
        "                                  tf.keras.layers.MaxPool2D(pool_size=(2, 2)),\n",
        "\n",
        "                                  tf.keras.layers.Conv2D(128,3,3,padding='same',activation='relu'),\n",
        "                                  tf.keras.layers.Conv2D(128,3,3,padding='same',activation='relu'),\n",
        "                                  tf.keras.layers.MaxPool2D(pool_size=(2, 2)),\n",
        "\n",
        "                                  tf.keras.layers.Conv2D(256,3,3,padding='same',activation='relu'),\n",
        "                                  tf.keras.layers.Conv2D(256,3,3,padding='same',activation='relu'),\n",
        "                                  tf.keras.layers.MaxPool2D(pool_size=(2, 2)),                                  \n",
        "\n",
        "                                  tf.keras.layers.Flatten(),\n",
        "                                  tf.keras.layers.Dense(256,activation='relu'),\n",
        "                                  tf.keras.layers.Dropout(0.5),\n",
        "\n",
        "                                  tf.keras.layers.Dense(256,activation='relu'),\n",
        "                                  tf.keras.layers.Dropout(0.5),\n",
        "\n",
        "                                  tf.keras.layers.Dense(1,activation='relu'),\n",
        "                                  tf.keras.layers.Dense(1,activation='sigmoid')\n",
        "\n",
        "\n",
        "])"
      ],
      "execution_count": 0,
      "outputs": []
    },
    {
      "cell_type": "code",
      "metadata": {
        "id": "EuKdGYQu-D1p",
        "colab_type": "code",
        "colab": {
          "base_uri": "https://localhost:8080/",
          "height": 35
        },
        "outputId": "d7eb6e14-3d36-4a98-bb63-25a13e113f92"
      },
      "source": [
        "import tensorflow as tf\n",
        "from keras import layers\n",
        "from keras import models"
      ],
      "execution_count": 1,
      "outputs": [
        {
          "output_type": "stream",
          "text": [
            "Using TensorFlow backend.\n"
          ],
          "name": "stderr"
        }
      ]
    },
    {
      "cell_type": "code",
      "metadata": {
        "id": "grNfYAdu-Mp4",
        "colab_type": "code",
        "colab": {}
      },
      "source": [
        ""
      ],
      "execution_count": 0,
      "outputs": []
    }
  ]
}