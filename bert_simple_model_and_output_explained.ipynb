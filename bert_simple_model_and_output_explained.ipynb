{
  "nbformat": 4,
  "nbformat_minor": 0,
  "metadata": {
    "colab": {
      "name": "bert simple model and output explained.ipynb",
      "provenance": [],
      "authorship_tag": "ABX9TyNj64TgfGVU4vGMaaqybpt8",
      "include_colab_link": true
    },
    "kernelspec": {
      "name": "python3",
      "display_name": "Python 3"
    },
    "widgets": {
      "application/vnd.jupyter.widget-state+json": {
        "a1d49e5fcba1403abd91565dc64dfdbb": {
          "model_module": "@jupyter-widgets/controls",
          "model_name": "HBoxModel",
          "state": {
            "_view_name": "HBoxView",
            "_dom_classes": [],
            "_model_name": "HBoxModel",
            "_view_module": "@jupyter-widgets/controls",
            "_model_module_version": "1.5.0",
            "_view_count": null,
            "_view_module_version": "1.5.0",
            "box_style": "",
            "layout": "IPY_MODEL_214b981736cb47ada40bb4643cf18c82",
            "_model_module": "@jupyter-widgets/controls",
            "children": [
              "IPY_MODEL_2e330b1dcdc24e2ab98244dcce7bdf44",
              "IPY_MODEL_40661a19607242be8fdc63735f914fa2"
            ]
          }
        },
        "214b981736cb47ada40bb4643cf18c82": {
          "model_module": "@jupyter-widgets/base",
          "model_name": "LayoutModel",
          "state": {
            "_view_name": "LayoutView",
            "grid_template_rows": null,
            "right": null,
            "justify_content": null,
            "_view_module": "@jupyter-widgets/base",
            "overflow": null,
            "_model_module_version": "1.2.0",
            "_view_count": null,
            "flex_flow": null,
            "width": null,
            "min_width": null,
            "border": null,
            "align_items": null,
            "bottom": null,
            "_model_module": "@jupyter-widgets/base",
            "top": null,
            "grid_column": null,
            "overflow_y": null,
            "overflow_x": null,
            "grid_auto_flow": null,
            "grid_area": null,
            "grid_template_columns": null,
            "flex": null,
            "_model_name": "LayoutModel",
            "justify_items": null,
            "grid_row": null,
            "max_height": null,
            "align_content": null,
            "visibility": null,
            "align_self": null,
            "height": null,
            "min_height": null,
            "padding": null,
            "grid_auto_rows": null,
            "grid_gap": null,
            "max_width": null,
            "order": null,
            "_view_module_version": "1.2.0",
            "grid_template_areas": null,
            "object_position": null,
            "object_fit": null,
            "grid_auto_columns": null,
            "margin": null,
            "display": null,
            "left": null
          }
        },
        "2e330b1dcdc24e2ab98244dcce7bdf44": {
          "model_module": "@jupyter-widgets/controls",
          "model_name": "FloatProgressModel",
          "state": {
            "_view_name": "ProgressView",
            "style": "IPY_MODEL_cc41eaa87d7c479db5b29baba1525aa0",
            "_dom_classes": [],
            "description": "Downloading: 100%",
            "_model_name": "FloatProgressModel",
            "bar_style": "success",
            "max": 213450,
            "_view_module": "@jupyter-widgets/controls",
            "_model_module_version": "1.5.0",
            "value": 213450,
            "_view_count": null,
            "_view_module_version": "1.5.0",
            "orientation": "horizontal",
            "min": 0,
            "description_tooltip": null,
            "_model_module": "@jupyter-widgets/controls",
            "layout": "IPY_MODEL_a3bbb311ab6241758a8bb8961bc88848"
          }
        },
        "40661a19607242be8fdc63735f914fa2": {
          "model_module": "@jupyter-widgets/controls",
          "model_name": "HTMLModel",
          "state": {
            "_view_name": "HTMLView",
            "style": "IPY_MODEL_eca93f38c7a84153a29e4d09b5f82eb4",
            "_dom_classes": [],
            "description": "",
            "_model_name": "HTMLModel",
            "placeholder": "​",
            "_view_module": "@jupyter-widgets/controls",
            "_model_module_version": "1.5.0",
            "value": " 213k/213k [00:00&lt;00:00, 1.90MB/s]",
            "_view_count": null,
            "_view_module_version": "1.5.0",
            "description_tooltip": null,
            "_model_module": "@jupyter-widgets/controls",
            "layout": "IPY_MODEL_a421dcc4b62145e28dcbb8263b975df0"
          }
        },
        "cc41eaa87d7c479db5b29baba1525aa0": {
          "model_module": "@jupyter-widgets/controls",
          "model_name": "ProgressStyleModel",
          "state": {
            "_view_name": "StyleView",
            "_model_name": "ProgressStyleModel",
            "description_width": "initial",
            "_view_module": "@jupyter-widgets/base",
            "_model_module_version": "1.5.0",
            "_view_count": null,
            "_view_module_version": "1.2.0",
            "bar_color": null,
            "_model_module": "@jupyter-widgets/controls"
          }
        },
        "a3bbb311ab6241758a8bb8961bc88848": {
          "model_module": "@jupyter-widgets/base",
          "model_name": "LayoutModel",
          "state": {
            "_view_name": "LayoutView",
            "grid_template_rows": null,
            "right": null,
            "justify_content": null,
            "_view_module": "@jupyter-widgets/base",
            "overflow": null,
            "_model_module_version": "1.2.0",
            "_view_count": null,
            "flex_flow": null,
            "width": null,
            "min_width": null,
            "border": null,
            "align_items": null,
            "bottom": null,
            "_model_module": "@jupyter-widgets/base",
            "top": null,
            "grid_column": null,
            "overflow_y": null,
            "overflow_x": null,
            "grid_auto_flow": null,
            "grid_area": null,
            "grid_template_columns": null,
            "flex": null,
            "_model_name": "LayoutModel",
            "justify_items": null,
            "grid_row": null,
            "max_height": null,
            "align_content": null,
            "visibility": null,
            "align_self": null,
            "height": null,
            "min_height": null,
            "padding": null,
            "grid_auto_rows": null,
            "grid_gap": null,
            "max_width": null,
            "order": null,
            "_view_module_version": "1.2.0",
            "grid_template_areas": null,
            "object_position": null,
            "object_fit": null,
            "grid_auto_columns": null,
            "margin": null,
            "display": null,
            "left": null
          }
        },
        "eca93f38c7a84153a29e4d09b5f82eb4": {
          "model_module": "@jupyter-widgets/controls",
          "model_name": "DescriptionStyleModel",
          "state": {
            "_view_name": "StyleView",
            "_model_name": "DescriptionStyleModel",
            "description_width": "",
            "_view_module": "@jupyter-widgets/base",
            "_model_module_version": "1.5.0",
            "_view_count": null,
            "_view_module_version": "1.2.0",
            "_model_module": "@jupyter-widgets/controls"
          }
        },
        "a421dcc4b62145e28dcbb8263b975df0": {
          "model_module": "@jupyter-widgets/base",
          "model_name": "LayoutModel",
          "state": {
            "_view_name": "LayoutView",
            "grid_template_rows": null,
            "right": null,
            "justify_content": null,
            "_view_module": "@jupyter-widgets/base",
            "overflow": null,
            "_model_module_version": "1.2.0",
            "_view_count": null,
            "flex_flow": null,
            "width": null,
            "min_width": null,
            "border": null,
            "align_items": null,
            "bottom": null,
            "_model_module": "@jupyter-widgets/base",
            "top": null,
            "grid_column": null,
            "overflow_y": null,
            "overflow_x": null,
            "grid_auto_flow": null,
            "grid_area": null,
            "grid_template_columns": null,
            "flex": null,
            "_model_name": "LayoutModel",
            "justify_items": null,
            "grid_row": null,
            "max_height": null,
            "align_content": null,
            "visibility": null,
            "align_self": null,
            "height": null,
            "min_height": null,
            "padding": null,
            "grid_auto_rows": null,
            "grid_gap": null,
            "max_width": null,
            "order": null,
            "_view_module_version": "1.2.0",
            "grid_template_areas": null,
            "object_position": null,
            "object_fit": null,
            "grid_auto_columns": null,
            "margin": null,
            "display": null,
            "left": null
          }
        },
        "bf2a163d2136413fa602f83b6dc10f1b": {
          "model_module": "@jupyter-widgets/controls",
          "model_name": "HBoxModel",
          "state": {
            "_view_name": "HBoxView",
            "_dom_classes": [],
            "_model_name": "HBoxModel",
            "_view_module": "@jupyter-widgets/controls",
            "_model_module_version": "1.5.0",
            "_view_count": null,
            "_view_module_version": "1.5.0",
            "box_style": "",
            "layout": "IPY_MODEL_b16803a46bcf489abd464a11ba6b283c",
            "_model_module": "@jupyter-widgets/controls",
            "children": [
              "IPY_MODEL_e06fdd9f61ca450e8382e082837f1907",
              "IPY_MODEL_1a457a95986243d094c92f3cb2b97d82"
            ]
          }
        },
        "b16803a46bcf489abd464a11ba6b283c": {
          "model_module": "@jupyter-widgets/base",
          "model_name": "LayoutModel",
          "state": {
            "_view_name": "LayoutView",
            "grid_template_rows": null,
            "right": null,
            "justify_content": null,
            "_view_module": "@jupyter-widgets/base",
            "overflow": null,
            "_model_module_version": "1.2.0",
            "_view_count": null,
            "flex_flow": null,
            "width": null,
            "min_width": null,
            "border": null,
            "align_items": null,
            "bottom": null,
            "_model_module": "@jupyter-widgets/base",
            "top": null,
            "grid_column": null,
            "overflow_y": null,
            "overflow_x": null,
            "grid_auto_flow": null,
            "grid_area": null,
            "grid_template_columns": null,
            "flex": null,
            "_model_name": "LayoutModel",
            "justify_items": null,
            "grid_row": null,
            "max_height": null,
            "align_content": null,
            "visibility": null,
            "align_self": null,
            "height": null,
            "min_height": null,
            "padding": null,
            "grid_auto_rows": null,
            "grid_gap": null,
            "max_width": null,
            "order": null,
            "_view_module_version": "1.2.0",
            "grid_template_areas": null,
            "object_position": null,
            "object_fit": null,
            "grid_auto_columns": null,
            "margin": null,
            "display": null,
            "left": null
          }
        },
        "e06fdd9f61ca450e8382e082837f1907": {
          "model_module": "@jupyter-widgets/controls",
          "model_name": "FloatProgressModel",
          "state": {
            "_view_name": "ProgressView",
            "style": "IPY_MODEL_2f9a7b96f0e849929be51a5c740f652a",
            "_dom_classes": [],
            "description": "Downloading: 100%",
            "_model_name": "FloatProgressModel",
            "bar_style": "success",
            "max": 231508,
            "_view_module": "@jupyter-widgets/controls",
            "_model_module_version": "1.5.0",
            "value": 231508,
            "_view_count": null,
            "_view_module_version": "1.5.0",
            "orientation": "horizontal",
            "min": 0,
            "description_tooltip": null,
            "_model_module": "@jupyter-widgets/controls",
            "layout": "IPY_MODEL_623aa4d0e1e34478aa0b893b11612ae8"
          }
        },
        "1a457a95986243d094c92f3cb2b97d82": {
          "model_module": "@jupyter-widgets/controls",
          "model_name": "HTMLModel",
          "state": {
            "_view_name": "HTMLView",
            "style": "IPY_MODEL_49e86575568f41718a56e57e24f1185b",
            "_dom_classes": [],
            "description": "",
            "_model_name": "HTMLModel",
            "placeholder": "​",
            "_view_module": "@jupyter-widgets/controls",
            "_model_module_version": "1.5.0",
            "value": " 232k/232k [00:00&lt;00:00, 2.19MB/s]",
            "_view_count": null,
            "_view_module_version": "1.5.0",
            "description_tooltip": null,
            "_model_module": "@jupyter-widgets/controls",
            "layout": "IPY_MODEL_cc9040011aca4ead99406a221d5708d0"
          }
        },
        "2f9a7b96f0e849929be51a5c740f652a": {
          "model_module": "@jupyter-widgets/controls",
          "model_name": "ProgressStyleModel",
          "state": {
            "_view_name": "StyleView",
            "_model_name": "ProgressStyleModel",
            "description_width": "initial",
            "_view_module": "@jupyter-widgets/base",
            "_model_module_version": "1.5.0",
            "_view_count": null,
            "_view_module_version": "1.2.0",
            "bar_color": null,
            "_model_module": "@jupyter-widgets/controls"
          }
        },
        "623aa4d0e1e34478aa0b893b11612ae8": {
          "model_module": "@jupyter-widgets/base",
          "model_name": "LayoutModel",
          "state": {
            "_view_name": "LayoutView",
            "grid_template_rows": null,
            "right": null,
            "justify_content": null,
            "_view_module": "@jupyter-widgets/base",
            "overflow": null,
            "_model_module_version": "1.2.0",
            "_view_count": null,
            "flex_flow": null,
            "width": null,
            "min_width": null,
            "border": null,
            "align_items": null,
            "bottom": null,
            "_model_module": "@jupyter-widgets/base",
            "top": null,
            "grid_column": null,
            "overflow_y": null,
            "overflow_x": null,
            "grid_auto_flow": null,
            "grid_area": null,
            "grid_template_columns": null,
            "flex": null,
            "_model_name": "LayoutModel",
            "justify_items": null,
            "grid_row": null,
            "max_height": null,
            "align_content": null,
            "visibility": null,
            "align_self": null,
            "height": null,
            "min_height": null,
            "padding": null,
            "grid_auto_rows": null,
            "grid_gap": null,
            "max_width": null,
            "order": null,
            "_view_module_version": "1.2.0",
            "grid_template_areas": null,
            "object_position": null,
            "object_fit": null,
            "grid_auto_columns": null,
            "margin": null,
            "display": null,
            "left": null
          }
        },
        "49e86575568f41718a56e57e24f1185b": {
          "model_module": "@jupyter-widgets/controls",
          "model_name": "DescriptionStyleModel",
          "state": {
            "_view_name": "StyleView",
            "_model_name": "DescriptionStyleModel",
            "description_width": "",
            "_view_module": "@jupyter-widgets/base",
            "_model_module_version": "1.5.0",
            "_view_count": null,
            "_view_module_version": "1.2.0",
            "_model_module": "@jupyter-widgets/controls"
          }
        },
        "cc9040011aca4ead99406a221d5708d0": {
          "model_module": "@jupyter-widgets/base",
          "model_name": "LayoutModel",
          "state": {
            "_view_name": "LayoutView",
            "grid_template_rows": null,
            "right": null,
            "justify_content": null,
            "_view_module": "@jupyter-widgets/base",
            "overflow": null,
            "_model_module_version": "1.2.0",
            "_view_count": null,
            "flex_flow": null,
            "width": null,
            "min_width": null,
            "border": null,
            "align_items": null,
            "bottom": null,
            "_model_module": "@jupyter-widgets/base",
            "top": null,
            "grid_column": null,
            "overflow_y": null,
            "overflow_x": null,
            "grid_auto_flow": null,
            "grid_area": null,
            "grid_template_columns": null,
            "flex": null,
            "_model_name": "LayoutModel",
            "justify_items": null,
            "grid_row": null,
            "max_height": null,
            "align_content": null,
            "visibility": null,
            "align_self": null,
            "height": null,
            "min_height": null,
            "padding": null,
            "grid_auto_rows": null,
            "grid_gap": null,
            "max_width": null,
            "order": null,
            "_view_module_version": "1.2.0",
            "grid_template_areas": null,
            "object_position": null,
            "object_fit": null,
            "grid_auto_columns": null,
            "margin": null,
            "display": null,
            "left": null
          }
        },
        "70b9fe586fd54256b6d0a9faa1805810": {
          "model_module": "@jupyter-widgets/controls",
          "model_name": "HBoxModel",
          "state": {
            "_view_name": "HBoxView",
            "_dom_classes": [],
            "_model_name": "HBoxModel",
            "_view_module": "@jupyter-widgets/controls",
            "_model_module_version": "1.5.0",
            "_view_count": null,
            "_view_module_version": "1.5.0",
            "box_style": "",
            "layout": "IPY_MODEL_c963bc63567e44fe8d18257065b044ed",
            "_model_module": "@jupyter-widgets/controls",
            "children": [
              "IPY_MODEL_4a269a23ea384571a6ec4862a07f1d59",
              "IPY_MODEL_078cac49b39446f79526fff6f4b9757e"
            ]
          }
        },
        "c963bc63567e44fe8d18257065b044ed": {
          "model_module": "@jupyter-widgets/base",
          "model_name": "LayoutModel",
          "state": {
            "_view_name": "LayoutView",
            "grid_template_rows": null,
            "right": null,
            "justify_content": null,
            "_view_module": "@jupyter-widgets/base",
            "overflow": null,
            "_model_module_version": "1.2.0",
            "_view_count": null,
            "flex_flow": null,
            "width": null,
            "min_width": null,
            "border": null,
            "align_items": null,
            "bottom": null,
            "_model_module": "@jupyter-widgets/base",
            "top": null,
            "grid_column": null,
            "overflow_y": null,
            "overflow_x": null,
            "grid_auto_flow": null,
            "grid_area": null,
            "grid_template_columns": null,
            "flex": null,
            "_model_name": "LayoutModel",
            "justify_items": null,
            "grid_row": null,
            "max_height": null,
            "align_content": null,
            "visibility": null,
            "align_self": null,
            "height": null,
            "min_height": null,
            "padding": null,
            "grid_auto_rows": null,
            "grid_gap": null,
            "max_width": null,
            "order": null,
            "_view_module_version": "1.2.0",
            "grid_template_areas": null,
            "object_position": null,
            "object_fit": null,
            "grid_auto_columns": null,
            "margin": null,
            "display": null,
            "left": null
          }
        },
        "4a269a23ea384571a6ec4862a07f1d59": {
          "model_module": "@jupyter-widgets/controls",
          "model_name": "FloatProgressModel",
          "state": {
            "_view_name": "ProgressView",
            "style": "IPY_MODEL_1854aab240e94fe2809bcc734a0d8f6c",
            "_dom_classes": [],
            "description": "Downloading: 100%",
            "_model_name": "FloatProgressModel",
            "bar_style": "success",
            "max": 442,
            "_view_module": "@jupyter-widgets/controls",
            "_model_module_version": "1.5.0",
            "value": 442,
            "_view_count": null,
            "_view_module_version": "1.5.0",
            "orientation": "horizontal",
            "min": 0,
            "description_tooltip": null,
            "_model_module": "@jupyter-widgets/controls",
            "layout": "IPY_MODEL_fc6601d6b43349a391ef215249d7f156"
          }
        },
        "078cac49b39446f79526fff6f4b9757e": {
          "model_module": "@jupyter-widgets/controls",
          "model_name": "HTMLModel",
          "state": {
            "_view_name": "HTMLView",
            "style": "IPY_MODEL_1781fcd9b0c3423991d6aa3cb18ea90c",
            "_dom_classes": [],
            "description": "",
            "_model_name": "HTMLModel",
            "placeholder": "​",
            "_view_module": "@jupyter-widgets/controls",
            "_model_module_version": "1.5.0",
            "value": " 442/442 [00:07&lt;00:00, 56.3B/s]",
            "_view_count": null,
            "_view_module_version": "1.5.0",
            "description_tooltip": null,
            "_model_module": "@jupyter-widgets/controls",
            "layout": "IPY_MODEL_067caedd9489443b8847baa5ae59e223"
          }
        },
        "1854aab240e94fe2809bcc734a0d8f6c": {
          "model_module": "@jupyter-widgets/controls",
          "model_name": "ProgressStyleModel",
          "state": {
            "_view_name": "StyleView",
            "_model_name": "ProgressStyleModel",
            "description_width": "initial",
            "_view_module": "@jupyter-widgets/base",
            "_model_module_version": "1.5.0",
            "_view_count": null,
            "_view_module_version": "1.2.0",
            "bar_color": null,
            "_model_module": "@jupyter-widgets/controls"
          }
        },
        "fc6601d6b43349a391ef215249d7f156": {
          "model_module": "@jupyter-widgets/base",
          "model_name": "LayoutModel",
          "state": {
            "_view_name": "LayoutView",
            "grid_template_rows": null,
            "right": null,
            "justify_content": null,
            "_view_module": "@jupyter-widgets/base",
            "overflow": null,
            "_model_module_version": "1.2.0",
            "_view_count": null,
            "flex_flow": null,
            "width": null,
            "min_width": null,
            "border": null,
            "align_items": null,
            "bottom": null,
            "_model_module": "@jupyter-widgets/base",
            "top": null,
            "grid_column": null,
            "overflow_y": null,
            "overflow_x": null,
            "grid_auto_flow": null,
            "grid_area": null,
            "grid_template_columns": null,
            "flex": null,
            "_model_name": "LayoutModel",
            "justify_items": null,
            "grid_row": null,
            "max_height": null,
            "align_content": null,
            "visibility": null,
            "align_self": null,
            "height": null,
            "min_height": null,
            "padding": null,
            "grid_auto_rows": null,
            "grid_gap": null,
            "max_width": null,
            "order": null,
            "_view_module_version": "1.2.0",
            "grid_template_areas": null,
            "object_position": null,
            "object_fit": null,
            "grid_auto_columns": null,
            "margin": null,
            "display": null,
            "left": null
          }
        },
        "1781fcd9b0c3423991d6aa3cb18ea90c": {
          "model_module": "@jupyter-widgets/controls",
          "model_name": "DescriptionStyleModel",
          "state": {
            "_view_name": "StyleView",
            "_model_name": "DescriptionStyleModel",
            "description_width": "",
            "_view_module": "@jupyter-widgets/base",
            "_model_module_version": "1.5.0",
            "_view_count": null,
            "_view_module_version": "1.2.0",
            "_model_module": "@jupyter-widgets/controls"
          }
        },
        "067caedd9489443b8847baa5ae59e223": {
          "model_module": "@jupyter-widgets/base",
          "model_name": "LayoutModel",
          "state": {
            "_view_name": "LayoutView",
            "grid_template_rows": null,
            "right": null,
            "justify_content": null,
            "_view_module": "@jupyter-widgets/base",
            "overflow": null,
            "_model_module_version": "1.2.0",
            "_view_count": null,
            "flex_flow": null,
            "width": null,
            "min_width": null,
            "border": null,
            "align_items": null,
            "bottom": null,
            "_model_module": "@jupyter-widgets/base",
            "top": null,
            "grid_column": null,
            "overflow_y": null,
            "overflow_x": null,
            "grid_auto_flow": null,
            "grid_area": null,
            "grid_template_columns": null,
            "flex": null,
            "_model_name": "LayoutModel",
            "justify_items": null,
            "grid_row": null,
            "max_height": null,
            "align_content": null,
            "visibility": null,
            "align_self": null,
            "height": null,
            "min_height": null,
            "padding": null,
            "grid_auto_rows": null,
            "grid_gap": null,
            "max_width": null,
            "order": null,
            "_view_module_version": "1.2.0",
            "grid_template_areas": null,
            "object_position": null,
            "object_fit": null,
            "grid_auto_columns": null,
            "margin": null,
            "display": null,
            "left": null
          }
        },
        "bb04a5771aea479eaa6b3939f6b800b9": {
          "model_module": "@jupyter-widgets/controls",
          "model_name": "HBoxModel",
          "state": {
            "_view_name": "HBoxView",
            "_dom_classes": [],
            "_model_name": "HBoxModel",
            "_view_module": "@jupyter-widgets/controls",
            "_model_module_version": "1.5.0",
            "_view_count": null,
            "_view_module_version": "1.5.0",
            "box_style": "",
            "layout": "IPY_MODEL_8720b08810e9408ca007a356ba3135ca",
            "_model_module": "@jupyter-widgets/controls",
            "children": [
              "IPY_MODEL_e76c85616ccb401b909daa93ed0d518a",
              "IPY_MODEL_b41f61ca4c0d4815a81e9887b5127b3c"
            ]
          }
        },
        "8720b08810e9408ca007a356ba3135ca": {
          "model_module": "@jupyter-widgets/base",
          "model_name": "LayoutModel",
          "state": {
            "_view_name": "LayoutView",
            "grid_template_rows": null,
            "right": null,
            "justify_content": null,
            "_view_module": "@jupyter-widgets/base",
            "overflow": null,
            "_model_module_version": "1.2.0",
            "_view_count": null,
            "flex_flow": null,
            "width": null,
            "min_width": null,
            "border": null,
            "align_items": null,
            "bottom": null,
            "_model_module": "@jupyter-widgets/base",
            "top": null,
            "grid_column": null,
            "overflow_y": null,
            "overflow_x": null,
            "grid_auto_flow": null,
            "grid_area": null,
            "grid_template_columns": null,
            "flex": null,
            "_model_name": "LayoutModel",
            "justify_items": null,
            "grid_row": null,
            "max_height": null,
            "align_content": null,
            "visibility": null,
            "align_self": null,
            "height": null,
            "min_height": null,
            "padding": null,
            "grid_auto_rows": null,
            "grid_gap": null,
            "max_width": null,
            "order": null,
            "_view_module_version": "1.2.0",
            "grid_template_areas": null,
            "object_position": null,
            "object_fit": null,
            "grid_auto_columns": null,
            "margin": null,
            "display": null,
            "left": null
          }
        },
        "e76c85616ccb401b909daa93ed0d518a": {
          "model_module": "@jupyter-widgets/controls",
          "model_name": "FloatProgressModel",
          "state": {
            "_view_name": "ProgressView",
            "style": "IPY_MODEL_664f2ecf3c57413c943fa714b073939f",
            "_dom_classes": [],
            "description": "Downloading: 100%",
            "_model_name": "FloatProgressModel",
            "bar_style": "success",
            "max": 363423424,
            "_view_module": "@jupyter-widgets/controls",
            "_model_module_version": "1.5.0",
            "value": 363423424,
            "_view_count": null,
            "_view_module_version": "1.5.0",
            "orientation": "horizontal",
            "min": 0,
            "description_tooltip": null,
            "_model_module": "@jupyter-widgets/controls",
            "layout": "IPY_MODEL_b2d7bb9aeda8489d8089f8399d7dd509"
          }
        },
        "b41f61ca4c0d4815a81e9887b5127b3c": {
          "model_module": "@jupyter-widgets/controls",
          "model_name": "HTMLModel",
          "state": {
            "_view_name": "HTMLView",
            "style": "IPY_MODEL_b7b36a2b28f640979f7eeb04d1a0167e",
            "_dom_classes": [],
            "description": "",
            "_model_name": "HTMLModel",
            "placeholder": "​",
            "_view_module": "@jupyter-widgets/controls",
            "_model_module_version": "1.5.0",
            "value": " 363M/363M [00:07&lt;00:00, 49.6MB/s]",
            "_view_count": null,
            "_view_module_version": "1.5.0",
            "description_tooltip": null,
            "_model_module": "@jupyter-widgets/controls",
            "layout": "IPY_MODEL_7909d999791c4720abadd51058bdaa25"
          }
        },
        "664f2ecf3c57413c943fa714b073939f": {
          "model_module": "@jupyter-widgets/controls",
          "model_name": "ProgressStyleModel",
          "state": {
            "_view_name": "StyleView",
            "_model_name": "ProgressStyleModel",
            "description_width": "initial",
            "_view_module": "@jupyter-widgets/base",
            "_model_module_version": "1.5.0",
            "_view_count": null,
            "_view_module_version": "1.2.0",
            "bar_color": null,
            "_model_module": "@jupyter-widgets/controls"
          }
        },
        "b2d7bb9aeda8489d8089f8399d7dd509": {
          "model_module": "@jupyter-widgets/base",
          "model_name": "LayoutModel",
          "state": {
            "_view_name": "LayoutView",
            "grid_template_rows": null,
            "right": null,
            "justify_content": null,
            "_view_module": "@jupyter-widgets/base",
            "overflow": null,
            "_model_module_version": "1.2.0",
            "_view_count": null,
            "flex_flow": null,
            "width": null,
            "min_width": null,
            "border": null,
            "align_items": null,
            "bottom": null,
            "_model_module": "@jupyter-widgets/base",
            "top": null,
            "grid_column": null,
            "overflow_y": null,
            "overflow_x": null,
            "grid_auto_flow": null,
            "grid_area": null,
            "grid_template_columns": null,
            "flex": null,
            "_model_name": "LayoutModel",
            "justify_items": null,
            "grid_row": null,
            "max_height": null,
            "align_content": null,
            "visibility": null,
            "align_self": null,
            "height": null,
            "min_height": null,
            "padding": null,
            "grid_auto_rows": null,
            "grid_gap": null,
            "max_width": null,
            "order": null,
            "_view_module_version": "1.2.0",
            "grid_template_areas": null,
            "object_position": null,
            "object_fit": null,
            "grid_auto_columns": null,
            "margin": null,
            "display": null,
            "left": null
          }
        },
        "b7b36a2b28f640979f7eeb04d1a0167e": {
          "model_module": "@jupyter-widgets/controls",
          "model_name": "DescriptionStyleModel",
          "state": {
            "_view_name": "StyleView",
            "_model_name": "DescriptionStyleModel",
            "description_width": "",
            "_view_module": "@jupyter-widgets/base",
            "_model_module_version": "1.5.0",
            "_view_count": null,
            "_view_module_version": "1.2.0",
            "_model_module": "@jupyter-widgets/controls"
          }
        },
        "7909d999791c4720abadd51058bdaa25": {
          "model_module": "@jupyter-widgets/base",
          "model_name": "LayoutModel",
          "state": {
            "_view_name": "LayoutView",
            "grid_template_rows": null,
            "right": null,
            "justify_content": null,
            "_view_module": "@jupyter-widgets/base",
            "overflow": null,
            "_model_module_version": "1.2.0",
            "_view_count": null,
            "flex_flow": null,
            "width": null,
            "min_width": null,
            "border": null,
            "align_items": null,
            "bottom": null,
            "_model_module": "@jupyter-widgets/base",
            "top": null,
            "grid_column": null,
            "overflow_y": null,
            "overflow_x": null,
            "grid_auto_flow": null,
            "grid_area": null,
            "grid_template_columns": null,
            "flex": null,
            "_model_name": "LayoutModel",
            "justify_items": null,
            "grid_row": null,
            "max_height": null,
            "align_content": null,
            "visibility": null,
            "align_self": null,
            "height": null,
            "min_height": null,
            "padding": null,
            "grid_auto_rows": null,
            "grid_gap": null,
            "max_width": null,
            "order": null,
            "_view_module_version": "1.2.0",
            "grid_template_areas": null,
            "object_position": null,
            "object_fit": null,
            "grid_auto_columns": null,
            "margin": null,
            "display": null,
            "left": null
          }
        }
      }
    }
  },
  "cells": [
    {
      "cell_type": "markdown",
      "metadata": {
        "id": "view-in-github",
        "colab_type": "text"
      },
      "source": [
        "<a href=\"https://colab.research.google.com/github/rajeevfromkrec/deep_learning/blob/master/bert_simple_model_and_output_explained.ipynb\" target=\"_parent\"><img src=\"https://colab.research.google.com/assets/colab-badge.svg\" alt=\"Open In Colab\"/></a>"
      ]
    },
    {
      "cell_type": "code",
      "metadata": {
        "id": "8FB9pQUKHHbX",
        "colab_type": "code",
        "colab": {
          "base_uri": "https://localhost:8080/",
          "height": 625
        },
        "outputId": "4da28ac8-a5cd-4d49-94de-85d2f6ffca9b"
      },
      "source": [
        "!pip install transformers"
      ],
      "execution_count": 3,
      "outputs": [
        {
          "output_type": "stream",
          "text": [
            "Collecting transformers\n",
            "\u001b[?25l  Downloading https://files.pythonhosted.org/packages/12/b5/ac41e3e95205ebf53439e4dd087c58e9fd371fd8e3724f2b9b4cdb8282e5/transformers-2.10.0-py3-none-any.whl (660kB)\n",
            "\u001b[K     |████████████████████████████████| 665kB 2.7MB/s \n",
            "\u001b[?25hRequirement already satisfied: numpy in /usr/local/lib/python3.6/dist-packages (from transformers) (1.18.4)\n",
            "Requirement already satisfied: dataclasses; python_version < \"3.7\" in /usr/local/lib/python3.6/dist-packages (from transformers) (0.7)\n",
            "Collecting sentencepiece\n",
            "\u001b[?25l  Downloading https://files.pythonhosted.org/packages/d4/a4/d0a884c4300004a78cca907a6ff9a5e9fe4f090f5d95ab341c53d28cbc58/sentencepiece-0.1.91-cp36-cp36m-manylinux1_x86_64.whl (1.1MB)\n",
            "\u001b[K     |████████████████████████████████| 1.1MB 15.0MB/s \n",
            "\u001b[?25hRequirement already satisfied: filelock in /usr/local/lib/python3.6/dist-packages (from transformers) (3.0.12)\n",
            "Requirement already satisfied: requests in /usr/local/lib/python3.6/dist-packages (from transformers) (2.23.0)\n",
            "Collecting sacremoses\n",
            "\u001b[?25l  Downloading https://files.pythonhosted.org/packages/7d/34/09d19aff26edcc8eb2a01bed8e98f13a1537005d31e95233fd48216eed10/sacremoses-0.0.43.tar.gz (883kB)\n",
            "\u001b[K     |████████████████████████████████| 890kB 16.4MB/s \n",
            "\u001b[?25hRequirement already satisfied: tqdm>=4.27 in /usr/local/lib/python3.6/dist-packages (from transformers) (4.41.1)\n",
            "Requirement already satisfied: regex!=2019.12.17 in /usr/local/lib/python3.6/dist-packages (from transformers) (2019.12.20)\n",
            "Collecting tokenizers==0.7.0\n",
            "\u001b[?25l  Downloading https://files.pythonhosted.org/packages/14/e5/a26eb4716523808bb0a799fcfdceb6ebf77a18169d9591b2f46a9adb87d9/tokenizers-0.7.0-cp36-cp36m-manylinux1_x86_64.whl (3.8MB)\n",
            "\u001b[K     |████████████████████████████████| 3.8MB 26.2MB/s \n",
            "\u001b[?25hRequirement already satisfied: chardet<4,>=3.0.2 in /usr/local/lib/python3.6/dist-packages (from requests->transformers) (3.0.4)\n",
            "Requirement already satisfied: idna<3,>=2.5 in /usr/local/lib/python3.6/dist-packages (from requests->transformers) (2.9)\n",
            "Requirement already satisfied: certifi>=2017.4.17 in /usr/local/lib/python3.6/dist-packages (from requests->transformers) (2020.4.5.1)\n",
            "Requirement already satisfied: urllib3!=1.25.0,!=1.25.1,<1.26,>=1.21.1 in /usr/local/lib/python3.6/dist-packages (from requests->transformers) (1.24.3)\n",
            "Requirement already satisfied: six in /usr/local/lib/python3.6/dist-packages (from sacremoses->transformers) (1.12.0)\n",
            "Requirement already satisfied: click in /usr/local/lib/python3.6/dist-packages (from sacremoses->transformers) (7.1.2)\n",
            "Requirement already satisfied: joblib in /usr/local/lib/python3.6/dist-packages (from sacremoses->transformers) (0.15.1)\n",
            "Building wheels for collected packages: sacremoses\n",
            "  Building wheel for sacremoses (setup.py) ... \u001b[?25l\u001b[?25hdone\n",
            "  Created wheel for sacremoses: filename=sacremoses-0.0.43-cp36-none-any.whl size=893260 sha256=321d4471b9833219fe0c44db94714cdd427667a0e38ecd973684c65d2a50f48a\n",
            "  Stored in directory: /root/.cache/pip/wheels/29/3c/fd/7ce5c3f0666dab31a50123635e6fb5e19ceb42ce38d4e58f45\n",
            "Successfully built sacremoses\n",
            "Installing collected packages: sentencepiece, sacremoses, tokenizers, transformers\n",
            "Successfully installed sacremoses-0.0.43 sentencepiece-0.1.91 tokenizers-0.7.0 transformers-2.10.0\n"
          ],
          "name": "stdout"
        }
      ]
    },
    {
      "cell_type": "code",
      "metadata": {
        "id": "6nsN9nhqHLQf",
        "colab_type": "code",
        "colab": {}
      },
      "source": [
        "s= \" this is a lage corpus ..\"\n",
        "words=s.split()\n",
        "vocab= dict(enumerate(words))"
      ],
      "execution_count": 0,
      "outputs": []
    },
    {
      "cell_type": "code",
      "metadata": {
        "id": "ON1t7AG-Hhcz",
        "colab_type": "code",
        "colab": {
          "base_uri": "https://localhost:8080/",
          "height": 35
        },
        "outputId": "992fd4da-3dfa-4c17-8d47-ff714f2ebc51"
      },
      "source": [
        "vocab"
      ],
      "execution_count": 3,
      "outputs": [
        {
          "output_type": "execute_result",
          "data": {
            "text/plain": [
              "{0: 'this', 1: 'is', 2: 'a', 3: 'lage', 4: 'corpus', 5: '..'}"
            ]
          },
          "metadata": {
            "tags": []
          },
          "execution_count": 3
        }
      ]
    },
    {
      "cell_type": "code",
      "metadata": {
        "id": "3lw07SINHjta",
        "colab_type": "code",
        "colab": {}
      },
      "source": [
        "from transformers import BertTokenizer\n",
        "model_name=\"bert-base-cased\""
      ],
      "execution_count": 0,
      "outputs": []
    },
    {
      "cell_type": "code",
      "metadata": {
        "id": "DBtWar66H0UO",
        "colab_type": "code",
        "colab": {
          "base_uri": "https://localhost:8080/",
          "height": 67,
          "referenced_widgets": [
            "a1d49e5fcba1403abd91565dc64dfdbb",
            "214b981736cb47ada40bb4643cf18c82",
            "2e330b1dcdc24e2ab98244dcce7bdf44",
            "40661a19607242be8fdc63735f914fa2",
            "cc41eaa87d7c479db5b29baba1525aa0",
            "a3bbb311ab6241758a8bb8961bc88848",
            "eca93f38c7a84153a29e4d09b5f82eb4",
            "a421dcc4b62145e28dcbb8263b975df0"
          ]
        },
        "outputId": "928056f6-cb79-4681-d127-e5d0de39e7e4"
      },
      "source": [
        "bert_token= BertTokenizer.from_pretrained(model_name)"
      ],
      "execution_count": 6,
      "outputs": [
        {
          "output_type": "display_data",
          "data": {
            "application/vnd.jupyter.widget-view+json": {
              "model_id": "a1d49e5fcba1403abd91565dc64dfdbb",
              "version_minor": 0,
              "version_major": 2
            },
            "text/plain": [
              "HBox(children=(FloatProgress(value=0.0, description='Downloading', max=213450.0, style=ProgressStyle(descripti…"
            ]
          },
          "metadata": {
            "tags": []
          }
        },
        {
          "output_type": "stream",
          "text": [
            "\n"
          ],
          "name": "stdout"
        }
      ]
    },
    {
      "cell_type": "code",
      "metadata": {
        "id": "ImyEnnxNIL9J",
        "colab_type": "code",
        "colab": {}
      },
      "source": [
        "sen=\"Hi this is rajeev\"\n",
        "enc=bert_token.encode(sen)"
      ],
      "execution_count": 0,
      "outputs": []
    },
    {
      "cell_type": "code",
      "metadata": {
        "id": "LvUWMDQLKHOk",
        "colab_type": "code",
        "colab": {
          "base_uri": "https://localhost:8080/",
          "height": 54
        },
        "outputId": "bb808445-d515-47ec-a23b-5c1496825c1d"
      },
      "source": [
        "print(enc)\n",
        "print(bert_token.decode(enc))"
      ],
      "execution_count": 9,
      "outputs": [
        {
          "output_type": "stream",
          "text": [
            "[101, 8790, 1142, 1110, 187, 12487, 3051, 1964, 102]\n",
            "[CLS] Hi this is rajeev [SEP]\n"
          ],
          "name": "stdout"
        }
      ]
    },
    {
      "cell_type": "code",
      "metadata": {
        "id": "S315vWmmKIxD",
        "colab_type": "code",
        "colab": {}
      },
      "source": [
        "import tensorflow as tf"
      ],
      "execution_count": 0,
      "outputs": []
    },
    {
      "cell_type": "code",
      "metadata": {
        "id": "cNYCvJBhOLRM",
        "colab_type": "code",
        "colab": {}
      },
      "source": [
        "from transformers import DistilBertTokenizer,TFDistilBertModel"
      ],
      "execution_count": 0,
      "outputs": []
    },
    {
      "cell_type": "code",
      "metadata": {
        "id": "AzwAmXgGOhOi",
        "colab_type": "code",
        "colab": {}
      },
      "source": [
        "model_name='distilbert-base-uncased'"
      ],
      "execution_count": 0,
      "outputs": []
    },
    {
      "cell_type": "code",
      "metadata": {
        "id": "dGnm6mNIOvxU",
        "colab_type": "code",
        "colab": {
          "base_uri": "https://localhost:8080/",
          "height": 168,
          "referenced_widgets": [
            "bf2a163d2136413fa602f83b6dc10f1b",
            "b16803a46bcf489abd464a11ba6b283c",
            "e06fdd9f61ca450e8382e082837f1907",
            "1a457a95986243d094c92f3cb2b97d82",
            "2f9a7b96f0e849929be51a5c740f652a",
            "623aa4d0e1e34478aa0b893b11612ae8",
            "49e86575568f41718a56e57e24f1185b",
            "cc9040011aca4ead99406a221d5708d0",
            "70b9fe586fd54256b6d0a9faa1805810",
            "c963bc63567e44fe8d18257065b044ed",
            "4a269a23ea384571a6ec4862a07f1d59",
            "078cac49b39446f79526fff6f4b9757e",
            "1854aab240e94fe2809bcc734a0d8f6c",
            "fc6601d6b43349a391ef215249d7f156",
            "1781fcd9b0c3423991d6aa3cb18ea90c",
            "067caedd9489443b8847baa5ae59e223",
            "bb04a5771aea479eaa6b3939f6b800b9",
            "8720b08810e9408ca007a356ba3135ca",
            "e76c85616ccb401b909daa93ed0d518a",
            "b41f61ca4c0d4815a81e9887b5127b3c",
            "664f2ecf3c57413c943fa714b073939f",
            "b2d7bb9aeda8489d8089f8399d7dd509",
            "b7b36a2b28f640979f7eeb04d1a0167e",
            "7909d999791c4720abadd51058bdaa25"
          ]
        },
        "outputId": "870ecf9a-6fb3-4102-d01d-6d5aeb61e645"
      },
      "source": [
        "tokenizer=DistilBertTokenizer.from_pretrained(model_name)\n",
        "model=TFDistilBertModel.from_pretrained(model_name)"
      ],
      "execution_count": 13,
      "outputs": [
        {
          "output_type": "display_data",
          "data": {
            "application/vnd.jupyter.widget-view+json": {
              "model_id": "bf2a163d2136413fa602f83b6dc10f1b",
              "version_minor": 0,
              "version_major": 2
            },
            "text/plain": [
              "HBox(children=(FloatProgress(value=0.0, description='Downloading', max=231508.0, style=ProgressStyle(descripti…"
            ]
          },
          "metadata": {
            "tags": []
          }
        },
        {
          "output_type": "stream",
          "text": [
            "\n"
          ],
          "name": "stdout"
        },
        {
          "output_type": "display_data",
          "data": {
            "application/vnd.jupyter.widget-view+json": {
              "model_id": "70b9fe586fd54256b6d0a9faa1805810",
              "version_minor": 0,
              "version_major": 2
            },
            "text/plain": [
              "HBox(children=(FloatProgress(value=0.0, description='Downloading', max=442.0, style=ProgressStyle(description_…"
            ]
          },
          "metadata": {
            "tags": []
          }
        },
        {
          "output_type": "stream",
          "text": [
            "\n"
          ],
          "name": "stdout"
        },
        {
          "output_type": "display_data",
          "data": {
            "application/vnd.jupyter.widget-view+json": {
              "model_id": "bb04a5771aea479eaa6b3939f6b800b9",
              "version_minor": 0,
              "version_major": 2
            },
            "text/plain": [
              "HBox(children=(FloatProgress(value=0.0, description='Downloading', max=363423424.0, style=ProgressStyle(descri…"
            ]
          },
          "metadata": {
            "tags": []
          }
        },
        {
          "output_type": "stream",
          "text": [
            "\n"
          ],
          "name": "stdout"
        }
      ]
    },
    {
      "cell_type": "code",
      "metadata": {
        "id": "wnsLrf6MPE6Y",
        "colab_type": "code",
        "colab": {}
      },
      "source": [
        "e=tokenizer.encode(\"today's movie was realy great.i liked it\")"
      ],
      "execution_count": 0,
      "outputs": []
    },
    {
      "cell_type": "code",
      "metadata": {
        "id": "8C33j5SZP02E",
        "colab_type": "code",
        "colab": {}
      },
      "source": [
        "input=tf.constant(e)[None,:]"
      ],
      "execution_count": 0,
      "outputs": []
    },
    {
      "cell_type": "code",
      "metadata": {
        "id": "F2VTdDl3QKD2",
        "colab_type": "code",
        "colab": {}
      },
      "source": [
        "output=model(input)"
      ],
      "execution_count": 0,
      "outputs": []
    },
    {
      "cell_type": "code",
      "metadata": {
        "id": "T-vj89SUQNL0",
        "colab_type": "code",
        "colab": {
          "base_uri": "https://localhost:8080/",
          "height": 274
        },
        "outputId": "55178182-478b-4edc-83ce-d811bd876a78"
      },
      "source": [
        "print(output)"
      ],
      "execution_count": 17,
      "outputs": [
        {
          "output_type": "stream",
          "text": [
            "(<tf.Tensor: shape=(1, 14, 768), dtype=float32, numpy=\n",
            "array([[[ 0.15157515, -0.26314595,  0.10739828, ..., -0.12770289,\n",
            "          0.406785  ,  0.2143284 ],\n",
            "        [-0.35142002, -0.1950108 , -0.2246106 , ..., -0.27551782,\n",
            "          0.6033122 , -0.7363107 ],\n",
            "        [ 0.05507795, -0.56311256,  0.3821179 , ..., -0.2372811 ,\n",
            "          0.528416  , -0.52765536],\n",
            "        ...,\n",
            "        [ 0.20976768, -0.0540644 ,  0.4779727 , ..., -0.03327958,\n",
            "          0.37144735,  0.1602858 ],\n",
            "        [-0.04507186, -0.666519  , -0.01955395, ...,  0.09407885,\n",
            "          0.2720136 , -0.20018616],\n",
            "        [ 0.80260384,  0.1748421 ,  0.01704261, ...,  0.11530201,\n",
            "         -0.28183675, -0.45213506]]], dtype=float32)>,)\n"
          ],
          "name": "stdout"
        }
      ]
    },
    {
      "cell_type": "code",
      "metadata": {
        "id": "XQQyMWhEQQaZ",
        "colab_type": "code",
        "colab": {
          "base_uri": "https://localhost:8080/",
          "height": 1000
        },
        "outputId": "e999ae1c-4c6d-417b-d3f0-1c4cad281e23"
      },
      "source": [
        "output[0][0,0,:]  #output for CLS"
      ],
      "execution_count": 18,
      "outputs": [
        {
          "output_type": "execute_result",
          "data": {
            "text/plain": [
              "<tf.Tensor: shape=(768,), dtype=float32, numpy=\n",
              "array([ 1.51575148e-01, -2.63145953e-01,  1.07398279e-01,  4.01002504e-02,\n",
              "       -6.93500936e-02, -2.72732496e-01,  7.27978274e-02,  5.40895164e-01,\n",
              "        3.13128456e-02, -1.41176283e-01,  9.25550014e-02, -4.17054966e-02,\n",
              "        8.75447392e-02,  4.47073638e-01,  1.33691922e-01,  1.70864686e-01,\n",
              "        1.21657923e-02,  7.30126873e-02,  1.30808756e-01, -8.67791772e-02,\n",
              "       -1.41436845e-01, -3.19925845e-01,  2.44796146e-02,  2.32029438e-01,\n",
              "       -1.56416014e-01,  1.55275743e-02, -4.35667224e-02, -7.05435276e-02,\n",
              "        2.36837462e-01,  1.39635727e-01,  9.87878293e-02,  4.62015942e-02,\n",
              "       -4.32938755e-01, -1.76425219e-01, -2.91702598e-02, -2.00533405e-01,\n",
              "       -8.38612765e-02, -2.66956627e-01, -1.16008654e-01, -7.13301729e-03,\n",
              "       -1.78144500e-02, -1.42641328e-02,  1.59184366e-01, -6.42663836e-02,\n",
              "       -2.67069668e-01, -1.51331544e-01, -2.58518624e+00,  6.50170520e-02,\n",
              "       -1.24601044e-01, -3.02384973e-01,  4.79172707e-01, -3.29959169e-02,\n",
              "        1.12737194e-01,  3.32255423e-01,  3.12139928e-01,  5.15719354e-01,\n",
              "       -1.43853158e-01,  3.72006804e-01, -2.87893787e-02, -1.01431608e-02,\n",
              "        2.73847103e-01, -5.77406511e-02, -9.27129760e-02, -1.11341029e-01,\n",
              "       -1.26671985e-01,  1.19255036e-02, -1.73641056e-01,  5.46953976e-02,\n",
              "        5.73216788e-02,  3.01006407e-01, -1.63704902e-01, -1.16628334e-01,\n",
              "        3.03726554e-01, -4.15772498e-01, -2.07056943e-02, -1.83623061e-01,\n",
              "        1.18555248e-01,  2.15334728e-01, -9.08721685e-02,  1.77108943e-01,\n",
              "        1.96123406e-01,  4.30544525e-01,  4.26805019e-01,  3.55586231e-01,\n",
              "        9.27651748e-02,  2.64264494e-01, -3.25046897e-01, -2.02641025e-01,\n",
              "        1.26042828e-01,  3.12832057e-01, -5.40985703e-01,  1.02020912e-02,\n",
              "        1.50262192e-01,  2.96298563e-01,  5.59860587e-01, -2.86911726e-01,\n",
              "       -1.10629447e-01, -8.32292959e-02,  1.67363793e-01,  2.58632809e-01,\n",
              "        2.16297626e-01, -2.78601468e-01,  7.66947865e-03, -3.14346969e-01,\n",
              "       -5.92703298e-02, -9.06592458e-02,  6.65449500e-02, -4.73997891e-01,\n",
              "        9.08559002e-03, -1.95457339e+00,  3.23851734e-01,  1.11218259e-01,\n",
              "       -3.23158689e-02, -3.92018735e-01, -1.42763853e-01,  5.36046147e-01,\n",
              "        1.07119530e-01, -1.20242327e-01,  1.49637684e-01,  2.28109121e-01,\n",
              "       -2.63258576e-01,  3.16249907e-01, -1.41898736e-01, -1.01913169e-01,\n",
              "       -1.14243783e-01,  4.15724069e-01, -6.89111724e-02, -2.03835905e-01,\n",
              "       -1.34333253e-01,  1.08098716e-01,  4.29440439e-01,  4.99560922e-01,\n",
              "        1.33098945e-01, -1.69493929e-01, -1.71874508e-01, -1.69903934e-02,\n",
              "        2.18488380e-01, -9.50990617e-02, -2.04531729e-01, -9.96839553e-02,\n",
              "       -5.96771017e-04, -9.27325338e-02, -2.62136936e+00,  4.10474777e-01,\n",
              "        4.56560016e-01, -5.23375869e-02,  2.81011224e-01, -1.84708476e-01,\n",
              "        1.02714695e-01,  9.16115418e-02,  2.53290087e-01,  4.42989320e-02,\n",
              "       -3.35832030e-01, -1.74113795e-01, -1.84933394e-01,  1.22617692e-01,\n",
              "       -3.77582550e-01,  5.81101254e-02,  4.10085380e-01,  1.98101521e-01,\n",
              "        2.84970343e-01, -5.92872724e-02, -1.16244838e-01, -6.55031875e-02,\n",
              "       -3.13683860e-02,  7.41636530e-02,  1.22729436e-01,  1.37781668e-02,\n",
              "       -2.31160503e-02,  7.53909498e-02, -6.42233044e-02,  2.73916245e-01,\n",
              "        2.31725365e-01, -8.25790390e-02,  1.16301537e-01, -1.03486173e-01,\n",
              "        2.11569905e-01,  3.23673934e-01,  2.61335801e-02, -1.56970054e-01,\n",
              "       -6.08106256e-02,  3.17636192e-01,  2.69836187e-01,  3.25494930e-02,\n",
              "        8.88048187e-02,  1.03857107e-02,  2.44361594e-01, -1.76971108e-01,\n",
              "       -1.64571479e-02,  1.92398816e-01, -1.07967481e-01, -3.15932393e-01,\n",
              "       -1.20137736e-01, -3.65669727e-01,  3.06964219e-01, -1.19427979e-01,\n",
              "        1.86538607e-01, -5.73050141e-01,  1.85902834e-01,  2.18072623e-01,\n",
              "       -2.07555458e-01, -1.40274122e-01,  2.01968372e-01,  8.44294131e-02,\n",
              "       -5.20651527e-02,  3.10288429e+00,  1.25143871e-01,  2.78137743e-01,\n",
              "        5.74317984e-02,  2.41072029e-01,  3.11974101e-02,  6.90107644e-02,\n",
              "       -6.39221817e-02, -1.55712306e-01,  7.61071444e-02,  1.26114577e-01,\n",
              "        5.53798079e-02,  9.75580364e-02,  1.02244794e-01, -1.79622203e-01,\n",
              "        1.35823324e-01,  2.29658738e-01, -3.24469775e-01,  6.12627231e-02,\n",
              "       -7.25372210e-02,  1.96278363e-01, -2.33312786e-01,  9.74662006e-02,\n",
              "        1.13046072e-01, -1.36935556e+00, -1.82931900e-01,  1.37732923e-01,\n",
              "       -2.82568634e-01,  2.77722299e-01, -5.28077632e-02, -5.52354902e-02,\n",
              "       -5.50822578e-02, -3.45804766e-02,  4.13782783e-02,  4.77012023e-02,\n",
              "       -1.11909665e-01,  1.24205336e-01,  2.45109499e-01,  1.88716277e-01,\n",
              "       -2.64763623e-01,  3.60466510e-01,  2.66292602e-01, -3.24626490e-02,\n",
              "        7.49294907e-02, -1.91976205e-01,  1.08224779e-01,  1.46914423e-02,\n",
              "        9.03172120e-02, -1.10720456e-01,  2.43544966e-01,  2.13879943e-01,\n",
              "       -1.48921221e-01, -9.60882604e-02, -2.30702162e-01, -2.63559759e-01,\n",
              "       -9.60597545e-02, -2.38986537e-02,  1.09644741e-01,  1.22949943e-01,\n",
              "       -3.76467258e-01, -1.25411123e-01, -9.93064791e-02, -2.83416212e-01,\n",
              "        4.81661409e-04,  1.66534603e-01, -1.01241261e-01,  4.91980165e-02,\n",
              "       -1.31177366e-01, -2.86232018e+00, -2.78642029e-02, -1.84918404e-01,\n",
              "        2.54127115e-01,  1.41020715e-01, -5.82629219e-02,  1.33431599e-01,\n",
              "        6.39796406e-02,  2.22318128e-01, -4.17106837e-01,  1.81182846e-01,\n",
              "       -4.72379699e-02,  1.60614811e-02, -4.15941738e-02, -3.89992297e-01,\n",
              "        3.30922425e-01, -1.20736182e-01, -8.31153765e-02, -8.42919722e-02,\n",
              "       -1.35637075e-01, -1.46933645e-02,  2.55258203e-01, -1.29420593e-01,\n",
              "        2.43904561e-01,  9.34204012e-02, -1.45382464e-01, -5.88795021e-02,\n",
              "       -3.41850698e-01,  2.56294787e-01,  1.47306949e-01, -1.20358706e-01,\n",
              "       -1.20611139e-01,  1.94462091e-01, -2.16473892e-01, -1.73143208e-01,\n",
              "       -3.62482357e+00, -3.74075621e-02, -4.98071089e-02, -3.36885959e-01,\n",
              "        2.59889364e-02, -1.78228244e-01,  1.83340713e-01, -1.21897943e-01,\n",
              "       -1.53162315e-01,  1.36673853e-01,  1.05664834e-01, -5.25188930e-02,\n",
              "       -1.09654501e-01,  1.31744862e-01,  5.10024428e-01, -5.92166036e-02,\n",
              "        1.59119606e-01, -7.72484541e-02,  2.50877649e-01,  2.98072219e-01,\n",
              "       -8.59256834e-02,  5.73957600e-02,  1.34674296e-01, -7.17786103e-02,\n",
              "        2.97472566e-01,  3.26383859e-01, -6.07429087e-01,  1.34993702e-01,\n",
              "       -2.81863630e-01, -9.66954082e-02, -7.80133307e-02, -9.75901857e-02,\n",
              "        2.68854141e-01, -1.92717165e-02, -2.04535061e-03,  3.17552015e-02,\n",
              "        1.09120414e-01,  8.56871083e-02,  5.14325425e-02, -1.38072267e-01,\n",
              "       -2.60231107e-01,  3.38281184e-01, -1.37362033e-01,  8.42346698e-02,\n",
              "        5.43797672e-01,  6.35402873e-02,  3.06539625e-01, -1.14615038e-02,\n",
              "       -2.77834088e-02,  1.32668316e-02,  2.00108871e-01,  6.92996606e-02,\n",
              "        1.15552807e+00,  9.55682993e-02,  7.91504383e-02, -4.65134650e-01,\n",
              "        2.46678844e-01,  1.48070425e-01, -1.92024142e-01,  1.50247216e-02,\n",
              "        3.97081017e-01, -8.01112950e-02,  2.36535266e-01, -3.95223796e-01,\n",
              "        2.57505327e-02, -1.24484226e-01,  2.22254694e-01, -3.69291008e-01,\n",
              "        1.45574555e-01,  2.31836513e-01,  1.54437259e-01, -5.97048514e-02,\n",
              "       -7.68939182e-02, -1.04549909e+00, -1.19122252e-01,  3.55621964e-01,\n",
              "       -4.26750481e-02,  2.14395039e-02, -1.25341833e-01,  2.23478019e-01,\n",
              "       -2.38711447e-01,  5.99835142e-02, -3.42805386e-02,  2.86761045e-01,\n",
              "       -1.34572700e-01, -6.03603609e-02, -2.70856589e-01, -5.73755056e-03,\n",
              "       -3.57766181e-01, -8.96383822e-03,  2.07374141e-01,  1.32373527e-01,\n",
              "        2.49833204e-02,  3.48646134e-01,  4.30138744e-02, -4.91636395e-02,\n",
              "        1.05533160e-01, -6.54524446e-01,  3.55242670e-01, -2.23403752e-01,\n",
              "        1.35348439e-01, -2.45318234e-01, -2.11802110e-01,  1.06591791e-01,\n",
              "       -2.16410518e-01, -2.82864004e-01,  4.97780591e-02,  4.53005522e-01,\n",
              "        1.23346120e-01,  5.72830513e-02, -6.22170419e-02,  1.33382738e-01,\n",
              "        2.46013805e-01,  2.47513622e-01,  9.07190919e-01, -1.46801546e-01,\n",
              "        7.06892461e-02,  2.11836696e-01, -1.57992229e-01,  1.26456633e-01,\n",
              "        2.46258721e-01, -1.11884013e-01, -3.75030816e-01,  1.35777920e-01,\n",
              "       -2.53285408e-01,  3.16060036e-02,  5.71244247e-02, -2.51297504e-01,\n",
              "       -3.44759941e-01,  2.39612609e-02,  8.61633047e-02,  7.25080259e-03,\n",
              "       -1.64886922e-01, -3.50708187e-01,  2.23682635e-02, -4.21146929e-01,\n",
              "       -1.76541984e-01, -1.56702287e-02,  3.61548305e-01,  5.26297726e-02,\n",
              "        5.13067484e-01,  1.78248689e-01,  8.15276727e-02,  3.53595555e-01,\n",
              "       -2.13589653e-01,  4.40662533e-01,  1.08103782e-01,  1.31661981e-01,\n",
              "       -1.62975311e-01,  1.26229122e-01, -2.13321880e-01,  3.41194905e-02,\n",
              "        1.00675836e-01, -1.59299746e-01,  1.81444913e-01,  1.26600966e-01,\n",
              "        7.64799863e-02, -1.62775442e-01, -1.22674573e-02, -6.11837879e-02,\n",
              "        3.81642103e-01, -6.84180111e-03, -1.28184772e+00,  4.49504256e-01,\n",
              "        1.60408378e-01,  8.12906772e-02, -3.52054760e-02, -1.15231521e-01,\n",
              "       -2.37122718e-02,  2.54993021e-01,  2.56774068e-01,  1.41678631e-01,\n",
              "       -2.56605297e-01, -6.93822801e-02, -1.75322667e-02,  2.02046216e-01,\n",
              "       -3.02153304e-02, -8.25142488e-02, -9.00706574e-02,  4.11529578e-02,\n",
              "        7.20416233e-02, -1.13676541e-01,  1.51931494e-03,  5.76604307e-02,\n",
              "        1.46663889e-01,  1.80273373e-02, -2.69580841e-01,  3.12340707e-02,\n",
              "       -9.56099927e-02,  2.48000711e-01,  1.87756151e-01,  9.56849009e-02,\n",
              "       -1.24475606e-01, -4.91483748e-01, -6.19189858e-01, -2.28439093e-01,\n",
              "        1.16094805e-01, -1.26724333e-01,  3.13111134e-02, -1.35959253e-01,\n",
              "        4.77288127e-01,  1.45499721e-01, -6.05880618e-01,  3.20298374e-01,\n",
              "        1.20687969e-01, -7.26915225e-02,  6.06491327e-01,  2.75548697e-01,\n",
              "       -6.01961277e-02,  1.84364602e-01,  1.76162586e-01, -1.94766104e-01,\n",
              "       -1.62638381e-01, -2.34103575e-01,  2.99376808e-02,  5.18025383e-02,\n",
              "        1.40200227e-01, -2.65080720e-01, -1.21264100e-01,  1.08419821e-01,\n",
              "       -1.49541497e-01, -7.48610571e-02, -3.35139409e-02, -1.89332277e-01,\n",
              "       -4.46493953e-01,  2.42752835e-01, -3.82346094e-01, -6.39151692e-01,\n",
              "       -2.33521655e-01, -3.01532865e-01,  7.93240070e-02,  3.22658569e-04,\n",
              "        4.24085498e-01,  1.21828914e-02, -3.78876805e-01,  7.86646083e-02,\n",
              "       -1.72270149e-01,  2.35687599e-01,  2.74779111e-01,  2.22265199e-01,\n",
              "        1.45072401e-01, -2.69114166e-01,  5.62747121e-02,  4.37920950e-02,\n",
              "       -6.62548393e-02,  2.29073331e-01, -1.57117635e-01,  2.81970024e-01,\n",
              "       -2.08361328e-01, -1.05452821e-01,  3.67065594e-02, -1.92672253e-01,\n",
              "       -3.84970725e-01,  4.10125218e-02, -9.71460566e-02, -2.50160724e-01,\n",
              "       -2.31223196e-01,  1.92749470e-01,  2.31139079e-01, -1.26061708e-01,\n",
              "       -1.90508336e-01, -6.41731471e-02, -3.70511413e-01,  1.44056529e-01,\n",
              "        3.09631139e-01,  2.95337796e-01,  1.14212349e-01,  1.69435978e-01,\n",
              "        2.53843904e-01,  3.93037796e-02, -3.59330386e-01, -2.35532448e-01,\n",
              "        4.26130667e-02,  2.13790506e-01,  1.03768483e-01, -1.19392641e-01,\n",
              "       -1.56398118e-01, -2.61667162e-01,  1.83284581e-01, -4.29482311e-01,\n",
              "        1.58894289e+00,  2.82801360e-01,  2.09832221e-01, -8.71997625e-02,\n",
              "        1.32443443e-01, -1.20433196e-01, -2.56233156e-01,  3.14435601e-01,\n",
              "        1.74954310e-02,  5.29328525e-01, -1.89198121e-01,  2.77934611e-01,\n",
              "       -2.34548762e-01, -6.60213530e-02,  3.40933383e-01, -6.19565807e-02,\n",
              "        2.73042053e-01, -1.51958063e-01, -6.20650172e-01, -4.12075333e-02,\n",
              "       -3.02997619e-01,  5.65513596e-02,  2.76494801e-01, -1.05795853e-01,\n",
              "       -3.67178842e-02,  1.42091930e-01,  1.59595951e-01, -2.16725826e-01,\n",
              "        8.71588290e-02,  2.68087775e-01, -1.11424960e-02,  6.46510674e-03,\n",
              "       -6.40029907e-02,  2.07597673e-01, -2.71363527e-01, -1.51379392e-01,\n",
              "        2.15225741e-01, -3.61397639e-02, -2.46901244e-01, -7.31980503e-02,\n",
              "        1.93421617e-01, -8.09902996e-02,  3.13817382e-01, -2.39720866e-01,\n",
              "        9.61089954e-02,  3.91087174e-01, -7.65607804e-02, -2.00767025e-01,\n",
              "        2.49631569e-01,  2.76293218e-01,  6.74905404e-02,  8.28640610e-02,\n",
              "       -2.34254286e-01,  3.58685851e-01, -6.18143240e-03, -9.31135863e-02,\n",
              "       -5.63868880e-02, -5.86965159e-02,  1.94415838e-01,  1.43107533e-01,\n",
              "       -1.67923309e-02,  2.15677366e-01,  2.31372342e-01,  1.53334171e-01,\n",
              "        1.04163386e-01,  1.99005287e-02, -2.05653086e-01, -1.03944339e-01,\n",
              "        7.53100887e-02, -2.89918900e-01, -1.00448646e-01,  2.56941140e-01,\n",
              "        3.66033077e-01, -9.41017866e-02,  5.00692785e-01,  7.22215697e-02,\n",
              "        4.90564406e-01,  1.78052336e-01,  8.43963921e-02, -2.11498976e+00,\n",
              "        3.01801592e-01,  1.11045733e-01,  1.28362089e-01,  7.21789449e-02,\n",
              "        3.85639459e-01,  3.88880908e-01, -1.97777390e-01,  2.84903049e-01,\n",
              "       -2.50166684e-01,  1.22031100e-01,  3.03952575e-01,  2.84721583e-01,\n",
              "        1.17883116e-01,  2.76228964e-01,  8.80350843e-02,  2.43302107e-01,\n",
              "       -3.70565504e-02, -2.05906063e-01, -6.28965050e-02,  6.02725297e-02,\n",
              "        3.14182788e-01,  3.09857666e-01, -4.20176238e-01, -4.13000107e-01,\n",
              "        1.61662310e-01, -1.99655756e-01, -1.09972939e-01,  1.41565278e-01,\n",
              "        2.31250644e-01, -3.20240781e-02,  4.03199255e-01, -3.74066085e-01,\n",
              "       -1.42185196e-01, -5.58600724e-02, -1.91864103e-01, -4.11396146e-01,\n",
              "       -1.50753051e-01, -3.83952260e-02, -1.08593479e-02, -2.89689228e-02,\n",
              "        4.49281126e-01,  4.59366031e-02,  1.30100315e-02,  1.90190509e-01,\n",
              "        9.12915170e-03,  3.56123298e-01, -2.14783937e-01,  2.66784936e-01,\n",
              "       -2.70666897e-01, -2.59447098e-03,  1.06030077e-01,  2.15419099e-01,\n",
              "       -5.68793006e-02,  1.86995700e-01,  1.33121833e-01,  7.90695325e-02,\n",
              "        1.27923772e-01,  9.78957415e-02, -2.12766111e-01, -2.01137185e-01,\n",
              "       -1.63625702e-02, -6.43302500e-02, -1.34694576e-01,  3.45265359e-01,\n",
              "       -1.48305878e-01, -1.27393961e-01, -6.14864007e-03, -1.67892985e-02,\n",
              "       -2.15232238e-01, -2.11856946e-01, -1.12939268e-01,  3.78146946e-01,\n",
              "        6.11694641e-02,  2.54108049e-02, -1.46069363e-01,  3.51538181e-01,\n",
              "        2.23027915e-01,  1.28650054e-01,  1.36340968e-03,  1.60252228e-02,\n",
              "       -2.73267448e-01, -7.54147768e-05, -1.80476546e-01, -1.17325410e-01,\n",
              "       -5.88786125e+00, -3.73651147e-01,  9.94774327e-02, -1.44245744e-01,\n",
              "       -6.65450841e-02, -2.41447672e-01,  4.43846025e-02, -3.16820681e-01,\n",
              "        1.64819062e-01, -1.69511467e-01,  8.84633586e-02,  1.56242490e-01,\n",
              "       -1.68042183e-01, -1.27702892e-01,  4.06785011e-01,  2.14328393e-01],\n",
              "      dtype=float32)>"
            ]
          },
          "metadata": {
            "tags": []
          },
          "execution_count": 18
        }
      ]
    },
    {
      "cell_type": "code",
      "metadata": {
        "id": "QlepekmHQy0C",
        "colab_type": "code",
        "colab": {}
      },
      "source": [
        "from transformers import DistilBertConfig"
      ],
      "execution_count": 0,
      "outputs": []
    },
    {
      "cell_type": "code",
      "metadata": {
        "id": "RYZ1EsnARI-D",
        "colab_type": "code",
        "colab": {}
      },
      "source": [
        "config=DistilBertConfig.from_pretrained(model_name,output_hidden_states= True)"
      ],
      "execution_count": 0,
      "outputs": []
    },
    {
      "cell_type": "code",
      "metadata": {
        "id": "cmlbYySPRhfQ",
        "colab_type": "code",
        "colab": {}
      },
      "source": [
        "model=TFDistilBertModel.from_pretrained(model_name,config=config)"
      ],
      "execution_count": 0,
      "outputs": []
    },
    {
      "cell_type": "code",
      "metadata": {
        "id": "vbhYFX_MSXcu",
        "colab_type": "code",
        "colab": {}
      },
      "source": [
        "output=model(input)"
      ],
      "execution_count": 0,
      "outputs": []
    },
    {
      "cell_type": "code",
      "metadata": {
        "id": "gyG5g4uuSdGA",
        "colab_type": "code",
        "colab": {
          "base_uri": "https://localhost:8080/",
          "height": 35
        },
        "outputId": "6138fff5-8c54-4509-8918-802422cf7687"
      },
      "source": [
        "type(output)"
      ],
      "execution_count": 23,
      "outputs": [
        {
          "output_type": "execute_result",
          "data": {
            "text/plain": [
              "tuple"
            ]
          },
          "metadata": {
            "tags": []
          },
          "execution_count": 23
        }
      ]
    },
    {
      "cell_type": "code",
      "metadata": {
        "id": "iRkq1MEASfXx",
        "colab_type": "code",
        "colab": {
          "base_uri": "https://localhost:8080/",
          "height": 274
        },
        "outputId": "b1b0a991-dbcf-4c00-c064-74675728c72c"
      },
      "source": [
        "print(output[0])"
      ],
      "execution_count": 25,
      "outputs": [
        {
          "output_type": "stream",
          "text": [
            "tf.Tensor(\n",
            "[[[ 0.15157515 -0.26314595  0.10739828 ... -0.12770289  0.406785\n",
            "    0.2143284 ]\n",
            "  [-0.35142002 -0.1950108  -0.2246106  ... -0.27551782  0.6033122\n",
            "   -0.7363107 ]\n",
            "  [ 0.05507795 -0.56311256  0.3821179  ... -0.2372811   0.528416\n",
            "   -0.52765536]\n",
            "  ...\n",
            "  [ 0.20976768 -0.0540644   0.4779727  ... -0.03327958  0.37144735\n",
            "    0.1602858 ]\n",
            "  [-0.04507186 -0.666519   -0.01955395 ...  0.09407885  0.2720136\n",
            "   -0.20018616]\n",
            "  [ 0.80260384  0.1748421   0.01704261 ...  0.11530201 -0.28183675\n",
            "   -0.45213506]]], shape=(1, 14, 768), dtype=float32)\n"
          ],
          "name": "stdout"
        }
      ]
    },
    {
      "cell_type": "code",
      "metadata": {
        "id": "Upv2x3LiSmPh",
        "colab_type": "code",
        "colab": {
          "base_uri": "https://localhost:8080/",
          "height": 1000
        },
        "outputId": "74178201-2a7b-43d4-d84f-58804273f95f"
      },
      "source": [
        "print(output[1])"
      ],
      "execution_count": 26,
      "outputs": [
        {
          "output_type": "stream",
          "text": [
            "(<tf.Tensor: shape=(1, 14, 768), dtype=float32, numpy=\n",
            "array([[[ 3.4693521e-01, -1.6263762e-01, -2.3334563e-01, ...,\n",
            "          1.4869013e-01,  8.6534560e-02,  1.4215374e-01],\n",
            "        [-1.0047455e+00, -9.9143147e-02, -1.1042811e+00, ...,\n",
            "          4.0266180e-01,  6.9931960e-01, -4.8665494e-01],\n",
            "        [-7.7775431e-01, -7.1177185e-02,  2.4312153e-01, ...,\n",
            "          6.4759958e-01,  6.3680232e-01, -1.7200712e+00],\n",
            "        ...,\n",
            "        [-9.3307519e-01,  4.2615801e-01,  6.3079882e-01, ...,\n",
            "         -2.5537837e-01, -2.9449266e-01,  2.3637059e-01],\n",
            "        [-8.1787771e-01, -4.9718815e-01,  2.9226348e-01, ...,\n",
            "          6.1402828e-01,  1.9668402e-01,  4.1631299e-01],\n",
            "        [-5.9785068e-01, -9.9929273e-03, -8.9519128e-02, ...,\n",
            "         -2.1215832e-01,  2.1721298e-01,  1.3380013e-03]]], dtype=float32)>, <tf.Tensor: shape=(1, 14, 768), dtype=float32, numpy=\n",
            "array([[[-0.04211216,  0.05827064, -0.0523908 , ...,  0.27756923,\n",
            "          0.02239491,  0.00694019],\n",
            "        [-0.55709624,  0.25584   , -0.96534175, ...,  0.10320646,\n",
            "          1.1209884 , -1.0189105 ],\n",
            "        [-0.53013057, -0.2505257 ,  0.473318  , ..., -0.12060966,\n",
            "          0.65603244, -0.94123954],\n",
            "        ...,\n",
            "        [-0.30352962,  0.4445393 ,  0.72511655, ..., -0.57807773,\n",
            "         -0.7747155 , -0.04962902],\n",
            "        [-0.06027392, -0.4082216 ,  0.33560118, ...,  0.0747633 ,\n",
            "          0.05539869,  0.2651278 ],\n",
            "        [-0.38384157,  0.06887414, -0.14274168, ...,  0.02629687,\n",
            "          0.16193746, -0.0940391 ]]], dtype=float32)>, <tf.Tensor: shape=(1, 14, 768), dtype=float32, numpy=\n",
            "array([[[-0.02115808, -0.406001  ,  0.16083217, ..., -0.10469379,\n",
            "          0.4891448 ,  0.19149989],\n",
            "        [-0.3009599 ,  0.07393727, -0.23255152, ...,  0.10535475,\n",
            "          0.6705527 , -1.5373244 ],\n",
            "        [-0.35016572, -0.8040852 ,  0.39649633, ..., -0.02503317,\n",
            "          0.7810994 , -0.8218974 ],\n",
            "        ...,\n",
            "        [ 0.54339635,  0.41601455,  0.92619663, ...,  0.07225883,\n",
            "         -0.6461576 ,  0.21685398],\n",
            "        [ 0.05141698, -0.45562622,  0.06746057, ...,  0.13579807,\n",
            "         -0.24478701,  0.2640232 ],\n",
            "        [-0.04384032, -0.05715699,  0.06975618, ..., -0.03607454,\n",
            "          0.03910282, -0.0434824 ]]], dtype=float32)>, <tf.Tensor: shape=(1, 14, 768), dtype=float32, numpy=\n",
            "array([[[ 0.19665873, -0.64364296, -0.18169929, ..., -0.28437936,\n",
            "          0.7111388 ,  0.26458427],\n",
            "        [-0.6787978 ,  0.24506426, -0.4270972 , ..., -0.34403574,\n",
            "          0.7078927 , -1.3148516 ],\n",
            "        [-0.1292926 , -0.6796358 , -0.02648796, ..., -0.1271041 ,\n",
            "          0.99767727, -0.8700755 ],\n",
            "        ...,\n",
            "        [ 1.1965704 ,  0.5781411 ,  0.45688176, ...,  0.366915  ,\n",
            "         -0.2518629 ,  0.601763  ],\n",
            "        [ 0.21215266, -0.4337454 , -0.43260187, ...,  0.31166846,\n",
            "         -0.3162997 ,  0.20966503],\n",
            "        [-0.01719175, -0.04251045,  0.01801137, ..., -0.01614962,\n",
            "         -0.02018804, -0.01991246]]], dtype=float32)>, <tf.Tensor: shape=(1, 14, 768), dtype=float32, numpy=\n",
            "array([[[ 0.23366278, -0.77737385, -0.41837156, ..., -0.32407075,\n",
            "          0.57753026,  0.37390473],\n",
            "        [-0.69395614,  0.01943148, -0.3908288 , ..., -0.5680585 ,\n",
            "          0.8364418 , -1.3653586 ],\n",
            "        [-0.47576421, -0.7253926 ,  0.02682219, ...,  0.12530151,\n",
            "          1.2956258 , -0.46336156],\n",
            "        ...,\n",
            "        [ 0.7257108 ,  0.6486291 ,  0.6179647 , ...,  0.03019532,\n",
            "          0.26927972,  0.30042252],\n",
            "        [-0.00891798, -0.6581518 , -0.77641267, ...,  0.415021  ,\n",
            "         -0.07175176,  0.19018278],\n",
            "        [-0.02410268, -0.02087421,  0.03643844, ..., -0.05261377,\n",
            "         -0.05182328, -0.01942475]]], dtype=float32)>, <tf.Tensor: shape=(1, 14, 768), dtype=float32, numpy=\n",
            "array([[[ 0.36905304, -0.6771813 , -0.10231738, ..., -0.1790829 ,\n",
            "          0.312817  ,  0.2619283 ],\n",
            "        [-0.51229364, -0.350361  , -0.59846044, ..., -0.52199894,\n",
            "          0.5901229 , -1.3973287 ],\n",
            "        [-0.1933926 , -1.0228075 ,  0.2558612 , ..., -0.27076843,\n",
            "          0.892422  , -0.7537297 ],\n",
            "        ...,\n",
            "        [ 0.35244656,  0.2314375 ,  0.46874493, ..., -0.10107217,\n",
            "          0.20890999,  0.30619082],\n",
            "        [-0.32085863, -1.0696402 , -0.3846149 , ...,  0.29783258,\n",
            "          0.0246948 , -0.01009147],\n",
            "        [ 0.06158957, -0.01132114, -0.01668801, ..., -0.03809491,\n",
            "          0.02877336, -0.02493512]]], dtype=float32)>, <tf.Tensor: shape=(1, 14, 768), dtype=float32, numpy=\n",
            "array([[[ 0.15157515, -0.26314595,  0.10739828, ..., -0.12770289,\n",
            "          0.406785  ,  0.2143284 ],\n",
            "        [-0.35142002, -0.1950108 , -0.2246106 , ..., -0.27551782,\n",
            "          0.6033122 , -0.7363107 ],\n",
            "        [ 0.05507795, -0.56311256,  0.3821179 , ..., -0.2372811 ,\n",
            "          0.528416  , -0.52765536],\n",
            "        ...,\n",
            "        [ 0.20976768, -0.0540644 ,  0.4779727 , ..., -0.03327958,\n",
            "          0.37144735,  0.1602858 ],\n",
            "        [-0.04507186, -0.666519  , -0.01955395, ...,  0.09407885,\n",
            "          0.2720136 , -0.20018616],\n",
            "        [ 0.80260384,  0.1748421 ,  0.01704261, ...,  0.11530201,\n",
            "         -0.28183675, -0.45213506]]], dtype=float32)>)\n"
          ],
          "name": "stdout"
        }
      ]
    },
    {
      "cell_type": "code",
      "metadata": {
        "id": "_u11AzgGSwFG",
        "colab_type": "code",
        "colab": {}
      },
      "source": [
        ""
      ],
      "execution_count": 0,
      "outputs": []
    }
  ]
}