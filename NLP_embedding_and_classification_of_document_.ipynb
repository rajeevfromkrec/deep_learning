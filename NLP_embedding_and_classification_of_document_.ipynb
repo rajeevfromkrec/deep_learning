{
  "nbformat": 4,
  "nbformat_minor": 0,
  "metadata": {
    "colab": {
      "name": "NLP embedding and classification of document .ipynb",
      "provenance": [],
      "authorship_tag": "ABX9TyMo/1YeuuRXGWuz3W7Ws5/F",
      "include_colab_link": true
    },
    "kernelspec": {
      "name": "python3",
      "display_name": "Python 3"
    },
    "accelerator": "TPU"
  },
  "cells": [
    {
      "cell_type": "markdown",
      "metadata": {
        "id": "view-in-github",
        "colab_type": "text"
      },
      "source": [
        "<a href=\"https://colab.research.google.com/github/rajeevfromkrec/deep_learning/blob/master/NLP_embedding_and_classification_of_document_.ipynb\" target=\"_parent\"><img src=\"https://colab.research.google.com/assets/colab-badge.svg\" alt=\"Open In Colab\"/></a>"
      ]
    },
    {
      "cell_type": "code",
      "metadata": {
        "id": "L-xQ00St7CnE",
        "colab_type": "code",
        "colab": {
          "base_uri": "https://localhost:8080/",
          "height": 219
        },
        "outputId": "384cad52-788d-40a1-89ee-61b3a98c6edf"
      },
      "source": [
        "!wget --no-check-certificate \\\n",
        "    https://storage.googleapis.com/laurencemoroney-blog.appspot.com/bbc-text.csv \\\n",
        "    -O /tmp/bbc-text.csv"
      ],
      "execution_count": 3,
      "outputs": [
        {
          "output_type": "stream",
          "text": [
            "--2020-05-31 04:16:43--  https://storage.googleapis.com/laurencemoroney-blog.appspot.com/bbc-text.csv\n",
            "Resolving storage.googleapis.com (storage.googleapis.com)... 209.85.145.128, 2607:f8b0:4001:c03::80\n",
            "Connecting to storage.googleapis.com (storage.googleapis.com)|209.85.145.128|:443... connected.\n",
            "HTTP request sent, awaiting response... 200 OK\n",
            "Length: 5057493 (4.8M) [application/octet-stream]\n",
            "Saving to: ‘/tmp/bbc-text.csv’\n",
            "\n",
            "\r/tmp/bbc-text.csv     0%[                    ]       0  --.-KB/s               \r/tmp/bbc-text.csv   100%[===================>]   4.82M  --.-KB/s    in 0.07s   \n",
            "\n",
            "2020-05-31 04:16:43 (71.6 MB/s) - ‘/tmp/bbc-text.csv’ saved [5057493/5057493]\n",
            "\n"
          ],
          "name": "stdout"
        }
      ]
    },
    {
      "cell_type": "code",
      "metadata": {
        "id": "3_-eXBO67gdA",
        "colab_type": "code",
        "colab": {}
      },
      "source": [
        "import csv\n",
        "import tensorflow as tf\n",
        "import numpy as np\n",
        "from tensorflow.keras.preprocessing.text import Tokenizer\n",
        "from tensorflow.keras.preprocessing.sequence import pad_sequences"
      ],
      "execution_count": 0,
      "outputs": []
    },
    {
      "cell_type": "code",
      "metadata": {
        "id": "Qeuj2zrX7NRE",
        "colab_type": "code",
        "colab": {}
      },
      "source": [
        "vocab_size = 1000\n",
        "embedding_dim = 16\n",
        "max_length = 120\n",
        "trunc_type = 'post'\n",
        "padding_type = 'post'\n",
        "oov_tok = 'oov'\n",
        "training_portion = .8"
      ],
      "execution_count": 0,
      "outputs": []
    },
    {
      "cell_type": "code",
      "metadata": {
        "id": "qNho-MB17VGe",
        "colab_type": "code",
        "colab": {
          "base_uri": "https://localhost:8080/",
          "height": 35
        },
        "outputId": "f114550c-21d0-499c-c318-c478194da5e6"
      },
      "source": [
        "sentences = []\n",
        "labels = []\n",
        "stopwords = [ \"a\", \"about\", \"above\", \"after\", \"again\", \"against\", \"all\", \"am\", \"an\", \"and\", \"any\", \"are\", \"as\", \"at\", \"be\", \"because\", \"been\", \"before\", \"being\", \"below\", \"between\", \"both\", \"but\", \"by\", \"could\", \"did\", \"do\", \"does\", \"doing\", \"down\", \"during\", \"each\", \"few\", \"for\", \"from\", \"further\", \"had\", \"has\", \"have\", \"having\", \"he\", \"he'd\", \"he'll\", \"he's\", \"her\", \"here\", \"here's\", \"hers\", \"herself\", \"him\", \"himself\", \"his\", \"how\", \"how's\", \"i\", \"i'd\", \"i'll\", \"i'm\", \"i've\", \"if\", \"in\", \"into\", \"is\", \"it\", \"it's\", \"its\", \"itself\", \"let's\", \"me\", \"more\", \"most\", \"my\", \"myself\", \"nor\", \"of\", \"on\", \"once\", \"only\", \"or\", \"other\", \"ought\", \"our\", \"ours\", \"ourselves\", \"out\", \"over\", \"own\", \"same\", \"she\", \"she'd\", \"she'll\", \"she's\", \"should\", \"so\", \"some\", \"such\", \"than\", \"that\", \"that's\", \"the\", \"their\", \"theirs\", \"them\", \"themselves\", \"then\", \"there\", \"there's\", \"these\", \"they\", \"they'd\", \"they'll\", \"they're\", \"they've\", \"this\", \"those\", \"through\", \"to\", \"too\", \"under\", \"until\", \"up\", \"very\", \"was\", \"we\", \"we'd\", \"we'll\", \"we're\", \"we've\", \"were\", \"what\", \"what's\", \"when\", \"when's\", \"where\", \"where's\", \"which\", \"while\", \"who\", \"who's\", \"whom\", \"why\", \"why's\", \"with\", \"would\", \"you\", \"you'd\", \"you'll\", \"you're\", \"you've\", \"your\", \"yours\", \"yourself\", \"yourselves\" ]\n",
        "print(len(stopwords))"
      ],
      "execution_count": 6,
      "outputs": [
        {
          "output_type": "stream",
          "text": [
            "153\n"
          ],
          "name": "stdout"
        }
      ]
    },
    {
      "cell_type": "code",
      "metadata": {
        "id": "6D3l7Jb77ZQB",
        "colab_type": "code",
        "colab": {}
      },
      "source": [
        "sentences = []\n",
        "labels = []\n",
        "with open(\"/tmp/bbc-text.csv\", 'r') as csvfile:\n",
        "  csv_reader = csv.DictReader(csvfile)\n",
        "  for item in csv_reader:\n",
        "    sentences.append(item['text'])\n",
        "    labels.append(item['category'])"
      ],
      "execution_count": 0,
      "outputs": []
    },
    {
      "cell_type": "code",
      "metadata": {
        "id": "dHo1GrBS7dyb",
        "colab_type": "code",
        "colab": {
          "base_uri": "https://localhost:8080/",
          "height": 109
        },
        "outputId": "8e9cf415-297e-4704-9066-c07bc4432cd1"
      },
      "source": [
        "train_size = 1780\n",
        "\n",
        "train_sentences = sentences[0:train_size]\n",
        "train_labels = labels[0:train_size]\n",
        "\n",
        "validation_sentences = sentences[train_size:]\n",
        "validation_labels = labels[train_size:]\n",
        "\n",
        "print(train_size)\n",
        "print(len(train_sentences))\n",
        "print(len(train_labels))\n",
        "print(len(validation_sentences))\n",
        "print(len(validation_labels))"
      ],
      "execution_count": 8,
      "outputs": [
        {
          "output_type": "stream",
          "text": [
            "1780\n",
            "1780\n",
            "1780\n",
            "445\n",
            "445\n"
          ],
          "name": "stdout"
        }
      ]
    },
    {
      "cell_type": "code",
      "metadata": {
        "id": "U406K44m7t2p",
        "colab_type": "code",
        "colab": {
          "base_uri": "https://localhost:8080/",
          "height": 127
        },
        "outputId": "0f403b3f-355d-4d6b-eb56-457f990686f3"
      },
      "source": [
        "tokenizer = Tokenizer(num_words=vocab_size,oov_token=oov_tok )\n",
        "tokenizer.fit_on_texts(train_sentences)\n",
        "word_index = tokenizer.word_index\n",
        "\n",
        "\n",
        "train_sequences = tokenizer.texts_to_sequences(train_sentences)\n",
        "\n",
        "train_padded = pad_sequences(train_sequences,padding=padding_type ,maxlen=max_length)\n",
        "\n",
        "print(len(train_sequences[0]))\n",
        "print(len(train_padded[0]))\n",
        "\n",
        "print(len(train_sequences[1]))\n",
        "print(len(train_padded[1]))\n",
        "\n",
        "print(len(train_sequences[10]))\n",
        "print(len(train_padded[10]))"
      ],
      "execution_count": 9,
      "outputs": [
        {
          "output_type": "stream",
          "text": [
            "750\n",
            "120\n",
            "300\n",
            "120\n",
            "311\n",
            "120\n"
          ],
          "name": "stdout"
        }
      ]
    },
    {
      "cell_type": "code",
      "metadata": {
        "id": "rslfTuRW7x4D",
        "colab_type": "code",
        "colab": {
          "base_uri": "https://localhost:8080/",
          "height": 54
        },
        "outputId": "5b2f4196-c7f8-4808-8689-cbed42568f1d"
      },
      "source": [
        "validation_sequences = tokenizer.texts_to_sequences(validation_sentences)\n",
        "validation_padded = pad_sequences(validation_sequences,padding=padding_type,maxlen=max_length)\n",
        "\n",
        "print(len(validation_sequences))\n",
        "print(validation_padded.shape)"
      ],
      "execution_count": 10,
      "outputs": [
        {
          "output_type": "stream",
          "text": [
            "445\n",
            "(445, 120)\n"
          ],
          "name": "stdout"
        }
      ]
    },
    {
      "cell_type": "code",
      "metadata": {
        "id": "r0PrcTIS72pJ",
        "colab_type": "code",
        "colab": {
          "base_uri": "https://localhost:8080/",
          "height": 182
        },
        "outputId": "94d71b2a-655a-4ccb-8277-60289ea3cd1f"
      },
      "source": [
        "label_tokenizer = Tokenizer()\n",
        "label_tokenizer.fit_on_texts(train_labels)\n",
        "\n",
        "training_label_seq = np.array(label_tokenizer.texts_to_sequences(train_labels))\n",
        "validation_label_seq = np.array(label_tokenizer.texts_to_sequences(validation_labels))\n",
        "\n",
        "print(training_label_seq[0])\n",
        "print(training_label_seq[1])\n",
        "print(training_label_seq[2])\n",
        "print(training_label_seq.shape)\n",
        "\n",
        "print(validation_label_seq[0])\n",
        "print(validation_label_seq[1])\n",
        "print(validation_label_seq[2])\n",
        "print(validation_label_seq.shape)\n",
        "type(validation_label_seq)"
      ],
      "execution_count": 11,
      "outputs": [
        {
          "output_type": "stream",
          "text": [
            "[5]\n",
            "[2]\n",
            "[1]\n",
            "(1780, 1)\n",
            "[4]\n",
            "[5]\n",
            "[3]\n",
            "(445, 1)\n"
          ],
          "name": "stdout"
        },
        {
          "output_type": "execute_result",
          "data": {
            "text/plain": [
              "numpy.ndarray"
            ]
          },
          "metadata": {
            "tags": []
          },
          "execution_count": 11
        }
      ]
    },
    {
      "cell_type": "code",
      "metadata": {
        "id": "20rHZejS8Ay4",
        "colab_type": "code",
        "colab": {
          "base_uri": "https://localhost:8080/",
          "height": 384
        },
        "outputId": "782fb624-e7b6-4aca-c1a9-2d4febaaa7fd"
      },
      "source": [
        "model = tf.keras.models.Sequential([\n",
        "                                    tf.keras.layers.Embedding(vocab_size,embedding_dim,input_length=max_length),\n",
        "                                    tf.keras.layers.BatchNormalization(),\n",
        "                                    tf.keras.layers.GlobalAveragePooling1D(),\n",
        "                                    tf.keras.layers.Dense(24,activation='relu'),\n",
        "                                    tf.keras.layers.Dropout(0.25),\n",
        "                                    tf.keras.layers.Dense(6,activation='softmax')\n",
        "\n",
        "])\n",
        "\n",
        "model.compile(loss='sparse_categorical_crossentropy',optimizer='adam',metrics=['accuracy'])\n",
        "model.summary()"
      ],
      "execution_count": 18,
      "outputs": [
        {
          "output_type": "stream",
          "text": [
            "Model: \"sequential_1\"\n",
            "_________________________________________________________________\n",
            "Layer (type)                 Output Shape              Param #   \n",
            "=================================================================\n",
            "embedding_1 (Embedding)      (None, 120, 16)           16000     \n",
            "_________________________________________________________________\n",
            "batch_normalization (BatchNo (None, 120, 16)           64        \n",
            "_________________________________________________________________\n",
            "global_average_pooling1d_1 ( (None, 16)                0         \n",
            "_________________________________________________________________\n",
            "dense_2 (Dense)              (None, 24)                408       \n",
            "_________________________________________________________________\n",
            "dropout (Dropout)            (None, 24)                0         \n",
            "_________________________________________________________________\n",
            "dense_3 (Dense)              (None, 6)                 150       \n",
            "=================================================================\n",
            "Total params: 16,622\n",
            "Trainable params: 16,590\n",
            "Non-trainable params: 32\n",
            "_________________________________________________________________\n"
          ],
          "name": "stdout"
        }
      ]
    },
    {
      "cell_type": "code",
      "metadata": {
        "id": "igcCxwtF8G0k",
        "colab_type": "code",
        "colab": {
          "base_uri": "https://localhost:8080/",
          "height": 1000
        },
        "outputId": "def99707-b2c9-443b-f910-069ce546db53"
      },
      "source": [
        "num_epochs = 40\n",
        "history = model.fit(train_padded,training_label_seq,epochs=num_epochs,validation_data=(validation_padded,validation_label_seq))"
      ],
      "execution_count": 20,
      "outputs": [
        {
          "output_type": "stream",
          "text": [
            "Epoch 1/40\n",
            "56/56 [==============================] - 0s 3ms/step - loss: 0.0040 - accuracy: 0.9989 - val_loss: 0.9295 - val_accuracy: 0.8652\n",
            "Epoch 2/40\n",
            "56/56 [==============================] - 0s 3ms/step - loss: 0.0064 - accuracy: 0.9978 - val_loss: 0.9147 - val_accuracy: 0.8652\n",
            "Epoch 3/40\n",
            "56/56 [==============================] - 0s 3ms/step - loss: 0.0047 - accuracy: 0.9989 - val_loss: 0.8884 - val_accuracy: 0.8607\n",
            "Epoch 4/40\n",
            "56/56 [==============================] - 0s 4ms/step - loss: 0.0055 - accuracy: 0.9989 - val_loss: 0.8486 - val_accuracy: 0.8719\n",
            "Epoch 5/40\n",
            "56/56 [==============================] - 0s 4ms/step - loss: 0.0026 - accuracy: 0.9994 - val_loss: 0.9059 - val_accuracy: 0.8742\n",
            "Epoch 6/40\n",
            "56/56 [==============================] - 0s 4ms/step - loss: 0.0061 - accuracy: 0.9978 - val_loss: 0.8564 - val_accuracy: 0.8719\n",
            "Epoch 7/40\n",
            "56/56 [==============================] - 0s 4ms/step - loss: 0.0064 - accuracy: 0.9989 - val_loss: 0.8459 - val_accuracy: 0.8674\n",
            "Epoch 8/40\n",
            "56/56 [==============================] - 0s 4ms/step - loss: 0.0057 - accuracy: 0.9978 - val_loss: 0.9036 - val_accuracy: 0.8629\n",
            "Epoch 9/40\n",
            "56/56 [==============================] - 0s 3ms/step - loss: 0.0037 - accuracy: 0.9983 - val_loss: 0.9302 - val_accuracy: 0.8607\n",
            "Epoch 10/40\n",
            "56/56 [==============================] - 0s 4ms/step - loss: 0.0047 - accuracy: 0.9989 - val_loss: 0.9381 - val_accuracy: 0.8674\n",
            "Epoch 11/40\n",
            "56/56 [==============================] - 0s 4ms/step - loss: 0.0094 - accuracy: 0.9978 - val_loss: 0.9626 - val_accuracy: 0.8652\n",
            "Epoch 12/40\n",
            "56/56 [==============================] - 0s 3ms/step - loss: 0.0079 - accuracy: 0.9978 - val_loss: 1.0377 - val_accuracy: 0.8607\n",
            "Epoch 13/40\n",
            "56/56 [==============================] - 0s 3ms/step - loss: 0.0033 - accuracy: 1.0000 - val_loss: 0.9220 - val_accuracy: 0.8472\n",
            "Epoch 14/40\n",
            "56/56 [==============================] - 0s 4ms/step - loss: 0.0069 - accuracy: 0.9983 - val_loss: 0.9316 - val_accuracy: 0.8517\n",
            "Epoch 15/40\n",
            "56/56 [==============================] - 0s 4ms/step - loss: 0.0037 - accuracy: 1.0000 - val_loss: 0.9558 - val_accuracy: 0.8539\n",
            "Epoch 16/40\n",
            "56/56 [==============================] - 0s 4ms/step - loss: 0.0045 - accuracy: 0.9989 - val_loss: 0.9768 - val_accuracy: 0.8472\n",
            "Epoch 17/40\n",
            "56/56 [==============================] - 0s 4ms/step - loss: 0.0034 - accuracy: 0.9983 - val_loss: 0.9721 - val_accuracy: 0.8539\n",
            "Epoch 18/40\n",
            "56/56 [==============================] - 0s 4ms/step - loss: 0.0027 - accuracy: 0.9994 - val_loss: 0.9395 - val_accuracy: 0.8562\n",
            "Epoch 19/40\n",
            "56/56 [==============================] - 0s 4ms/step - loss: 0.0040 - accuracy: 0.9989 - val_loss: 0.9712 - val_accuracy: 0.8562\n",
            "Epoch 20/40\n",
            "56/56 [==============================] - 0s 4ms/step - loss: 0.0080 - accuracy: 0.9972 - val_loss: 1.1272 - val_accuracy: 0.8517\n",
            "Epoch 21/40\n",
            "56/56 [==============================] - 0s 4ms/step - loss: 0.0053 - accuracy: 0.9983 - val_loss: 0.9648 - val_accuracy: 0.8539\n",
            "Epoch 22/40\n",
            "56/56 [==============================] - 0s 3ms/step - loss: 0.0060 - accuracy: 0.9972 - val_loss: 0.9973 - val_accuracy: 0.8562\n",
            "Epoch 23/40\n",
            "56/56 [==============================] - 0s 4ms/step - loss: 0.0066 - accuracy: 0.9972 - val_loss: 0.9147 - val_accuracy: 0.8697\n",
            "Epoch 24/40\n",
            "56/56 [==============================] - 0s 4ms/step - loss: 0.0043 - accuracy: 0.9994 - val_loss: 0.9513 - val_accuracy: 0.8652\n",
            "Epoch 25/40\n",
            "56/56 [==============================] - 0s 4ms/step - loss: 0.0049 - accuracy: 0.9978 - val_loss: 0.9720 - val_accuracy: 0.8562\n",
            "Epoch 26/40\n",
            "56/56 [==============================] - 0s 4ms/step - loss: 0.0085 - accuracy: 0.9978 - val_loss: 0.9834 - val_accuracy: 0.8607\n",
            "Epoch 27/40\n",
            "56/56 [==============================] - 0s 3ms/step - loss: 0.0033 - accuracy: 1.0000 - val_loss: 0.9547 - val_accuracy: 0.8629\n",
            "Epoch 28/40\n",
            "56/56 [==============================] - 0s 4ms/step - loss: 0.0036 - accuracy: 0.9989 - val_loss: 0.9635 - val_accuracy: 0.8629\n",
            "Epoch 29/40\n",
            "56/56 [==============================] - 0s 4ms/step - loss: 0.0040 - accuracy: 0.9994 - val_loss: 0.9271 - val_accuracy: 0.8697\n",
            "Epoch 30/40\n",
            "56/56 [==============================] - 0s 4ms/step - loss: 0.0019 - accuracy: 1.0000 - val_loss: 0.9513 - val_accuracy: 0.8652\n",
            "Epoch 31/40\n",
            "56/56 [==============================] - 0s 4ms/step - loss: 0.0047 - accuracy: 0.9989 - val_loss: 1.0550 - val_accuracy: 0.8562\n",
            "Epoch 32/40\n",
            "56/56 [==============================] - 0s 4ms/step - loss: 0.0057 - accuracy: 0.9983 - val_loss: 1.0029 - val_accuracy: 0.8584\n",
            "Epoch 33/40\n",
            "56/56 [==============================] - 0s 4ms/step - loss: 0.0055 - accuracy: 0.9989 - val_loss: 0.9419 - val_accuracy: 0.8607\n",
            "Epoch 34/40\n",
            "56/56 [==============================] - 0s 4ms/step - loss: 0.0028 - accuracy: 1.0000 - val_loss: 0.9523 - val_accuracy: 0.8607\n",
            "Epoch 35/40\n",
            "56/56 [==============================] - 0s 4ms/step - loss: 0.0038 - accuracy: 0.9989 - val_loss: 0.9790 - val_accuracy: 0.8584\n",
            "Epoch 36/40\n",
            "56/56 [==============================] - 0s 4ms/step - loss: 0.0051 - accuracy: 0.9978 - val_loss: 0.9410 - val_accuracy: 0.8607\n",
            "Epoch 37/40\n",
            "56/56 [==============================] - 0s 4ms/step - loss: 0.0045 - accuracy: 0.9989 - val_loss: 0.9466 - val_accuracy: 0.8674\n",
            "Epoch 38/40\n",
            "56/56 [==============================] - 0s 4ms/step - loss: 0.0024 - accuracy: 1.0000 - val_loss: 0.9453 - val_accuracy: 0.8674\n",
            "Epoch 39/40\n",
            "56/56 [==============================] - 0s 4ms/step - loss: 0.0028 - accuracy: 1.0000 - val_loss: 0.9625 - val_accuracy: 0.8607\n",
            "Epoch 40/40\n",
            "56/56 [==============================] - 0s 4ms/step - loss: 0.0051 - accuracy: 0.9994 - val_loss: 1.2418 - val_accuracy: 0.8360\n"
          ],
          "name": "stdout"
        }
      ]
    },
    {
      "cell_type": "code",
      "metadata": {
        "id": "K4-umUEi8eim",
        "colab_type": "code",
        "colab": {
          "base_uri": "https://localhost:8080/",
          "height": 541
        },
        "outputId": "112a4e2a-7f64-4b61-f872-519bd13241c2"
      },
      "source": [
        "import matplotlib.pyplot as plt\n",
        "\n",
        "\n",
        "def plot_graphs(history, string):\n",
        "  plt.plot(history.history[string])\n",
        "  plt.plot(history.history['val_'+string])\n",
        "  plt.xlabel(\"Epochs\")\n",
        "  plt.ylabel(string)\n",
        "  plt.legend([string, 'val_'+string])\n",
        "  plt.show()\n",
        "  \n",
        "plot_graphs(history, \"accuracy\")\n",
        "plot_graphs(history, \"loss\")"
      ],
      "execution_count": 16,
      "outputs": [
        {
          "output_type": "display_data",
          "data": {
            "image/png": "[encoded data removed]",
            "text/plain": [
              "<Figure size 432x288 with 1 Axes>"
            ]
          },
          "metadata": {
            "tags": [],
            "needs_background": "light"
          }
        },
        {
          "output_type": "display_data",
          "data": {
            "image/png": "[encoded data removed]",
            "text/plain": [
              "<Figure size 432x288 with 1 Axes>"
            ]
          },
          "metadata": {
            "tags": [],
            "needs_background": "light"
          }
        }
      ]
    },
    {
      "cell_type": "code",
      "metadata": {
        "id": "5oB9q1RD87t5",
        "colab_type": "code",
        "colab": {}
      },
      "source": [
        "reverse_word_index = dict([(value, key) for (key, value) in word_index.items()])\n",
        "\n",
        "def decode_sentence(text):\n",
        "    return ' '.join([reverse_word_index.get(i, '?') for i in text])\n"
      ],
      "execution_count": 0,
      "outputs": []
    },
    {
      "cell_type": "code",
      "metadata": {
        "id": "gRXdgY_D9pr1",
        "colab_type": "code",
        "colab": {
          "base_uri": "https://localhost:8080/",
          "height": 35
        },
        "outputId": "d786d4d2-7b16-4562-a5ca-1f31a64c58e3"
      },
      "source": [
        "e = model.layers[0]\n",
        "weights = e.get_weights()[0]\n",
        "print(weights.shape)"
      ],
      "execution_count": 23,
      "outputs": [
        {
          "output_type": "stream",
          "text": [
            "(1000, 16)\n"
          ],
          "name": "stdout"
        }
      ]
    },
    {
      "cell_type": "code",
      "metadata": {
        "id": "BdTDJGMp9uv9",
        "colab_type": "code",
        "colab": {}
      },
      "source": [
        "import io\n",
        "\n",
        "out_v = io.open('vecs.tsv', 'w', encoding='utf-8')\n",
        "out_m = io.open('meta.tsv', 'w', encoding='utf-8')\n",
        "for word_num in range(1, vocab_size):\n",
        "  word = reverse_word_index[word_num]\n",
        "  embeddings = weights[word_num]\n",
        "  out_m.write(word + \"\\n\")\n",
        "  out_v.write('\\t'.join([str(x) for x in embeddings]) + \"\\n\")\n",
        "out_v.close()\n",
        "out_m.close()"
      ],
      "execution_count": 0,
      "outputs": []
    },
    {
      "cell_type": "code",
      "metadata": {
        "id": "4B4qkTsl92MZ",
        "colab_type": "code",
        "colab": {}
      },
      "source": [
        "try:\n",
        "  from google.colab import files\n",
        "except ImportError:\n",
        "  pass\n",
        "else:\n",
        "  files.download('vecs.tsv')\n",
        "  files.download('meta.tsv')"
      ],
      "execution_count": 0,
      "outputs": []
    },
    {
      "cell_type": "code",
      "metadata": {
        "id": "trK1YNpt96On",
        "colab_type": "code",
        "colab": {}
      },
      "source": [
        ""
      ],
      "execution_count": 0,
      "outputs": []
    }
  ]
}